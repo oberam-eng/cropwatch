{
 "cells": [
  {
   "cell_type": "code",
   "execution_count": 2,
   "metadata": {
    "collapsed": true
   },
   "outputs": [],
   "source": [
    "import numpy as np\n",
    "import pandas as pd"
   ]
  },
  {
   "cell_type": "code",
   "execution_count": 3,
   "metadata": {
    "collapsed": true
   },
   "outputs": [],
   "source": [
    "# read data from stage 1 (parser)\n",
    "df = pd.read_csv('2015_grants.csv',  index_col=0)\n",
    "df_16 = pd.read_csv('2016_grants.csv', index_col=0)"
   ]
  },
  {
   "cell_type": "code",
   "execution_count": 4,
   "metadata": {},
   "outputs": [],
   "source": [
    "# Debug Information\n",
    "#print(df.shape)\n",
    "#print(df_16.shape)"
   ]
  },
  {
   "cell_type": "code",
   "execution_count": 5,
   "metadata": {
    "collapsed": true
   },
   "outputs": [],
   "source": [
    "# remove all \"Kleinempfänger\"\n",
    "little_15 = df.loc[df.name == 'Kleinempfänger']\n",
    "little_16 = df_16.loc[df_16.name == 'Kleinempfänger']\n",
    "df = df.loc[df.name != 'Kleinempfänger']\n",
    "df_16 = df_16.loc[df_16.name != 'Kleinempfänger']"
   ]
  },
  {
   "cell_type": "code",
   "execution_count": 6,
   "metadata": {},
   "outputs": [],
   "source": [
    "# Debug Information\n",
    "#print(df.shape)\n",
    "#print(df_16.shape)\n",
    "#print(little_15.shape)\n",
    "#print(little_16.shape)"
   ]
  },
  {
   "cell_type": "code",
   "execution_count": 7,
   "metadata": {
    "collapsed": true
   },
   "outputs": [],
   "source": [
    "# Remove all \"strange duplicates\" aka persons with more than 1 entry\n",
    "df = df.drop_duplicates([\"name\", \"plz\", \"place\"], keep=False)\n",
    "df_16 = df_16.drop_duplicates([\"name\", \"plz\", \"place\"], keep=False)"
   ]
  },
  {
   "cell_type": "code",
   "execution_count": 8,
   "metadata": {
    "scrolled": true
   },
   "outputs": [
    {
     "name": "stdout",
     "output_type": "stream",
     "text": [
      "6452.10659279\n",
      "5737.57592941\n"
     ]
    }
   ],
   "source": [
    "# Debug Information, complete grants in Mio. €\n",
    "Total = df['Gesamt'].sum()\n",
    "Total /= (10**8)\n",
    "print (Total)\n",
    "Total_16 = df_16['Gesamt'].sum()\n",
    "Total_16 /= (10**8)\n",
    "print (Total_16)"
   ]
  },
  {
   "cell_type": "code",
   "execution_count": 9,
   "metadata": {
    "collapsed": true
   },
   "outputs": [],
   "source": [
    "# Reorganize columns\n",
    "cols = list(df.columns.values) #Make a list of all of the columns in the df\n",
    "cols.pop(cols.index('pid')) #Remove b from list\n",
    "cols.pop(cols.index('name')) #Remove x from list\n",
    "cols.pop(cols.index('plz')) #Remove b from list\n",
    "cols.pop(cols.index('place')) #Remove x from list\n",
    "cols.pop(cols.index('Gesamt')) #Remove b from list\n",
    "df = df[['pid','name', 'plz', 'place', 'Gesamt']+cols] #Create new dataframe with columns in the order you want\n",
    "\n",
    "cols = list(df_16.columns.values) #Make a list of all of the columns in the df\n",
    "cols.pop(cols.index('pid')) #Remove b from list\n",
    "cols.pop(cols.index('name')) #Remove x from list\n",
    "cols.pop(cols.index('plz')) #Remove b from list\n",
    "cols.pop(cols.index('place')) #Remove x from list\n",
    "cols.pop(cols.index('Gesamt')) #Remove b from list\n",
    "df_16 = df_16[['pid','name', 'plz', 'place', 'Gesamt']+cols] #Create new dataframe with columns in the order you want"
   ]
  },
  {
   "cell_type": "code",
   "execution_count": 10,
   "metadata": {
    "collapsed": true
   },
   "outputs": [],
   "source": [
    "# Convert the cents in €. TODO: fix parser to save to float as default\n",
    "df.iloc[:, 4:59] = df.iloc[:, 4:59] / 100\n",
    "df_16.iloc[:, 4:64] = df_16.iloc[:, 4:64] / 100"
   ]
  },
  {
   "cell_type": "code",
   "execution_count": 11,
   "metadata": {
    "collapsed": true
   },
   "outputs": [],
   "source": [
    "# Fill all NaN with zeros\n",
    "df.fillna(0, inplace=True)\n",
    "df_16.fillna(0, inplace=True)"
   ]
  },
  {
   "cell_type": "code",
   "execution_count": 12,
   "metadata": {
    "collapsed": true
   },
   "outputs": [],
   "source": [
    "# Create dataset for persons\n",
    "# Sort dataset in a reasonable way\n",
    "p1 = df.loc[:, [\"pid\", \"name\", \"plz\", \"place\"]]\n",
    "p1.sort_values([\"plz\", \"name\", \"pid\"], inplace=True)\n",
    "p1.reset_index(drop=True, inplace=True)"
   ]
  },
  {
   "cell_type": "code",
   "execution_count": 13,
   "metadata": {
    "collapsed": true
   },
   "outputs": [],
   "source": [
    "# Generate BauerID for 2015\n",
    "p1.insert(0, 'ID', range(15000000, 15000000 + len(p1)))"
   ]
  },
  {
   "cell_type": "code",
   "execution_count": 14,
   "metadata": {
    "collapsed": true
   },
   "outputs": [],
   "source": [
    "# Almost same for 2016 entries\n",
    "p1_16 = df_16.loc[:, [\"pid\", \"name\", \"plz\", \"place\"]]\n",
    "p1_16.sort_values([\"plz\", \"name\", \"pid\"], inplace=True)"
   ]
  },
  {
   "cell_type": "code",
   "execution_count": 15,
   "metadata": {
    "collapsed": true
   },
   "outputs": [],
   "source": [
    "# Join both years\n",
    "r1 = pd.merge(p1, p1_16, how='outer', on=['name', 'plz', 'place'])\n",
    "r1.rename(columns={'pid_x': '2015', 'pid_y': '2016'}, inplace=True)"
   ]
  },
  {
   "cell_type": "code",
   "execution_count": 16,
   "metadata": {},
   "outputs": [
    {
     "data": {
      "text/html": [
       "<div>\n",
       "<style>\n",
       "    .dataframe thead tr:only-child th {\n",
       "        text-align: right;\n",
       "    }\n",
       "\n",
       "    .dataframe thead th {\n",
       "        text-align: left;\n",
       "    }\n",
       "\n",
       "    .dataframe tbody tr th {\n",
       "        vertical-align: top;\n",
       "    }\n",
       "</style>\n",
       "<table border=\"1\" class=\"dataframe\">\n",
       "  <thead>\n",
       "    <tr style=\"text-align: right;\">\n",
       "      <th></th>\n",
       "      <th>ID</th>\n",
       "      <th>2015</th>\n",
       "      <th>name</th>\n",
       "      <th>plz</th>\n",
       "      <th>place</th>\n",
       "      <th>2016</th>\n",
       "    </tr>\n",
       "  </thead>\n",
       "  <tbody>\n",
       "  </tbody>\n",
       "</table>\n",
       "</div>"
      ],
      "text/plain": [
       "Empty DataFrame\n",
       "Columns: [ID, 2015, name, plz, place, 2016]\n",
       "Index: []"
      ]
     },
     "execution_count": 16,
     "metadata": {},
     "output_type": "execute_result"
    }
   ],
   "source": [
    "# Ensure that dataset is duplicate free\n",
    "r1[r1.duplicated([\"name\", \"plz\", \"place\"], keep=False)]"
   ]
  },
  {
   "cell_type": "code",
   "execution_count": 17,
   "metadata": {
    "collapsed": true
   },
   "outputs": [],
   "source": [
    "# Generate BauerID for ID-less entries from 2016\n",
    "ids = pd.Series(range(16000000 + len(r1), 16000000, -1))\n",
    "# Fill by join generated NaNs with zero\n",
    "r1[\"ID\"].fillna(value=ids, inplace=True)"
   ]
  },
  {
   "cell_type": "code",
   "execution_count": 18,
   "metadata": {},
   "outputs": [
    {
     "name": "stdout",
     "output_type": "stream",
     "text": [
      "                ID                                  2015  \\\n",
      "10445   15010445.0  522caf0c-b1b9-4bfc-9454-51283d7ad85f   \n",
      "10446   15010446.0  6da99620-ae5f-411a-b439-f71c5ede978f   \n",
      "10447   15010447.0  71f6c81a-7583-45b6-b508-fad668946513   \n",
      "10448   15010448.0  2c82e1e0-4123-4ce6-ba20-6022ae6e84e9   \n",
      "268705  16029136.0                                   NaN   \n",
      "\n",
      "                                          name    plz                 place  \\\n",
      "10445                            Freydank, Uwe  14482      Liebenwalde, Sta   \n",
      "10446                        Holdt Hans-Jürgen  14482              Weitendo   \n",
      "10447   Stiftung Naturlandschaften Brandenburg  14482          Potsdam, Sta   \n",
      "10448                      von Bredow, Mathias  14482       Stechow-Ferches   \n",
      "268705                  Erbengemeinschaft Nenz  14482  Groß Pankow (Prignit   \n",
      "\n",
      "                                        2016  \n",
      "10445   797c9d97-d05e-4bcc-92ee-35ea0a550383  \n",
      "10446                                    NaN  \n",
      "10447                                    NaN  \n",
      "10448   078c4b37-bf9e-47a6-b65a-53396d46527c  \n",
      "268705  d9b5dda8-b296-4ecb-8a3d-801a655c5e31  \n"
     ]
    }
   ],
   "source": [
    "print(r1.loc[r1.plz == 14482])"
   ]
  },
  {
   "cell_type": "code",
   "execution_count": 19,
   "metadata": {
    "collapsed": true
   },
   "outputs": [],
   "source": [
    "# Reorganize columns, cast BauerID to int\n",
    "r1 = r1[['ID', 'name', 'plz', 'place', '2015', '2016']]\n",
    "r1[\"ID\"] = r1[\"ID\"].astype(int)\n",
    "#print(r1.shape)\n",
    "#r1.dtypes"
   ]
  },
  {
   "cell_type": "code",
   "execution_count": 20,
   "metadata": {},
   "outputs": [
    {
     "name": "stdout",
     "output_type": "stream",
     "text": [
      "116.324575424\n"
     ]
    }
   ],
   "source": [
    "# Debug Information for saved memory. TODO: refactor: don't save plz as string, use default int instead.\n",
    "r2 = r1.copy()\n",
    "r2.rename(columns={'plz': 'plz_i'}, inplace=True)\n",
    "r2[['plz']] = r2[['plz_i']].astype(str)\n",
    "r2['plz'] = r2['plz'].str.zfill(5)\n",
    "mem1 = r2.memory_usage(index=True, deep=True).sum()\n",
    "mem1 /= (1024 * 1024)\n",
    "print(mem1)"
   ]
  },
  {
   "cell_type": "code",
   "execution_count": 21,
   "metadata": {},
   "outputs": [
    {
     "name": "stdout",
     "output_type": "stream",
     "text": [
      "65.6702613831\n"
     ]
    }
   ],
   "source": [
    "# Debug Information\n",
    "BauerID = r2.copy()\n",
    "BauerID.rename(columns={'ID': 'BauerID'}, inplace=True)\n",
    "BauerID = BauerID.loc[:, [\"BauerID\", \"name\", \"plz\", \"place\"]]\n",
    "mem2 = BauerID.memory_usage(index=True, deep=True).sum()\n",
    "mem2 /= (1024 * 1024)\n",
    "print(mem2)"
   ]
  },
  {
   "cell_type": "code",
   "execution_count": 22,
   "metadata": {},
   "outputs": [
    {
     "data": {
      "text/html": [
       "<div>\n",
       "<style>\n",
       "    .dataframe thead tr:only-child th {\n",
       "        text-align: right;\n",
       "    }\n",
       "\n",
       "    .dataframe thead th {\n",
       "        text-align: left;\n",
       "    }\n",
       "\n",
       "    .dataframe tbody tr th {\n",
       "        vertical-align: top;\n",
       "    }\n",
       "</style>\n",
       "<table border=\"1\" class=\"dataframe\">\n",
       "  <thead>\n",
       "    <tr style=\"text-align: right;\">\n",
       "      <th></th>\n",
       "      <th>BauerID</th>\n",
       "      <th>name</th>\n",
       "      <th>plz</th>\n",
       "      <th>place</th>\n",
       "    </tr>\n",
       "  </thead>\n",
       "  <tbody>\n",
       "  </tbody>\n",
       "</table>\n",
       "</div>"
      ],
      "text/plain": [
       "Empty DataFrame\n",
       "Columns: [BauerID, name, plz, place]\n",
       "Index: []"
      ]
     },
     "execution_count": 22,
     "metadata": {},
     "output_type": "execute_result"
    }
   ],
   "source": [
    "# Ensure that BauerID is duplicate free\n",
    "BauerID[BauerID.duplicated([\"name\", \"plz\", \"place\"], keep=False)]"
   ]
  },
  {
   "cell_type": "code",
   "execution_count": 23,
   "metadata": {
    "collapsed": true
   },
   "outputs": [],
   "source": [
    "# Save BauerID\n",
    "BauerID.to_csv('BauerID.csv', encoding='utf-8', index=False)"
   ]
  },
  {
   "cell_type": "code",
   "execution_count": 24,
   "metadata": {
    "collapsed": true
   },
   "outputs": [],
   "source": [
    "# Generate IDLT (ID Lookup Table) to save the allocation of the former dataset to BauerID\n",
    "IDLT = r2.loc[:, [\"ID\", \"2015\", \"2016\"]] # ID Lookup Table\n",
    "IDLT.rename(columns={'ID': 'BauerID'}, inplace=True)\n",
    "#print(IDLT)"
   ]
  },
  {
   "cell_type": "code",
   "execution_count": 25,
   "metadata": {
    "collapsed": true
   },
   "outputs": [],
   "source": [
    "# Save IDLT\n",
    "IDLT.to_csv('IDLT.csv', encoding='utf-8', index=False)"
   ]
  },
  {
   "cell_type": "code",
   "execution_count": 26,
   "metadata": {
    "collapsed": true
   },
   "outputs": [],
   "source": [
    "# Generate final grant dataset\n",
    "# Scheme: BauerID, Gesamt, [for meassure in list, append]\n",
    "grant_15 = pd.merge(IDLT, df, how='inner', left_on = '2015', right_on = 'pid')"
   ]
  },
  {
   "cell_type": "code",
   "execution_count": 27,
   "metadata": {
    "collapsed": true
   },
   "outputs": [],
   "source": [
    "# Clean up final grant dataset\n",
    "a = list(range(0, 61))\n",
    "for i in [1, 2, 3, 4, 5, 6]:\n",
    "  a.remove(i)\n",
    "grant_15 = grant_15.iloc[:, a]"
   ]
  },
  {
   "cell_type": "code",
   "execution_count": 28,
   "metadata": {
    "collapsed": true
   },
   "outputs": [],
   "source": [
    "# Same for 2016\n",
    "grant_16 = pd.merge(IDLT, df_16, how='inner', left_on = '2016', right_on = 'pid')\n",
    "b = list(range(0, 64))\n",
    "for i in [1, 2, 3, 4, 5, 6]:\n",
    "  b.remove(i)\n",
    "grant_16 = grant_16.iloc[:, b]"
   ]
  },
  {
   "cell_type": "code",
   "execution_count": 29,
   "metadata": {},
   "outputs": [],
   "source": [
    "# Debug Information\n",
    "#t2_15 = df['Gesamt'].sum()/(10**6)\n",
    "#t2_16 = df_16['Gesamt'].sum()/(10**6)\n",
    "#print(t2_15, t2_16)"
   ]
  },
  {
   "cell_type": "code",
   "execution_count": 30,
   "metadata": {},
   "outputs": [],
   "source": [
    "# Debug Information\n",
    "#t2_15 = grant_15['Gesamt'].sum()/(10**6)\n",
    "#t2_16 = grant_16['Gesamt'].sum()/(10**6)\n",
    "#print(t2_15, t2_16)"
   ]
  },
  {
   "cell_type": "code",
   "execution_count": 31,
   "metadata": {
    "collapsed": true
   },
   "outputs": [],
   "source": [
    "grant_16.to_csv('grant_16.csv', encoding='utf-8', index=False)\n",
    "grant_15.to_csv('grant_15.csv', encoding='utf-8', index=False)"
   ]
  }
 ],
 "metadata": {
  "kernelspec": {
   "display_name": "Python 3",
   "language": "python",
   "name": "python3"
  },
  "language_info": {
   "codemirror_mode": {
    "name": "ipython",
    "version": 3
   },
   "file_extension": ".py",
   "mimetype": "text/x-python",
   "name": "python",
   "nbconvert_exporter": "python",
   "pygments_lexer": "ipython3",
   "version": "3.6.2"
  }
 },
 "nbformat": 4,
 "nbformat_minor": 2
}
