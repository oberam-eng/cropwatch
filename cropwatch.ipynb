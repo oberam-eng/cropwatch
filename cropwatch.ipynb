{
 "cells": [
  {
   "cell_type": "code",
   "execution_count": 372,
   "metadata": {
    "collapsed": true
   },
   "outputs": [],
   "source": [
    "import numpy as np\n",
    "import pandas as pd"
   ]
  },
  {
   "cell_type": "code",
   "execution_count": 373,
   "metadata": {
    "collapsed": true
   },
   "outputs": [],
   "source": [
    "df = pd.read_csv('2015_grants.csv',  index_col=0)\n",
    "df_16 = pd.read_csv('2016_grants.csv', index_col=0)"
   ]
  },
  {
   "cell_type": "code",
   "execution_count": 374,
   "metadata": {},
   "outputs": [
    {
     "name": "stdout",
     "output_type": "stream",
     "text": [
      "(285184, 59)\n",
      "(259792, 61)\n"
     ]
    }
   ],
   "source": [
    "print(df.shape)\n",
    "#print(df.columns.values)\n",
    "print(df_16.shape)\n",
    "#print(df.columns)"
   ]
  },
  {
   "cell_type": "code",
   "execution_count": 375,
   "metadata": {
    "collapsed": true
   },
   "outputs": [],
   "source": [
    "# remove all \"Kleinempfänger\"\n",
    "little_15 = df.loc[df.name == 'Kleinempfänger']\n",
    "little_16 = df_16.loc[df_16.name == 'Kleinempfänger']\n",
    "df = df.loc[df.name != 'Kleinempfänger']\n",
    "df_16 = df_16.loc[df_16.name != 'Kleinempfänger']\n",
    "#print(df)\n",
    "#df.iloc[:, 5] = df.iloc[:, 5].astype(str).str[:-1]\n",
    "#df_16.iloc[:, 5] = df.iloc[:, 5].astype(str).str[:-1]"
   ]
  },
  {
   "cell_type": "code",
   "execution_count": 376,
   "metadata": {},
   "outputs": [
    {
     "name": "stdout",
     "output_type": "stream",
     "text": [
      "(269582, 59)\n",
      "(253740, 61)\n",
      "(15602, 59)\n",
      "(6052, 61)\n"
     ]
    }
   ],
   "source": [
    "print(df.shape)\n",
    "print(df_16.shape)\n",
    "print(little_15.shape)\n",
    "print(little_16.shape)"
   ]
  },
  {
   "cell_type": "code",
   "execution_count": 377,
   "metadata": {
    "collapsed": true
   },
   "outputs": [],
   "source": [
    "#tmp = df[df.duplicated([\"name\", \"plz\", \"place\"], keep=False)]\n",
    "#tmp_16 = df_16[df_16.duplicated([\"name\", \"plz\", \"place\"], keep=False)]"
   ]
  },
  {
   "cell_type": "code",
   "execution_count": 378,
   "metadata": {},
   "outputs": [],
   "source": [
    "#df = df.groupby(['name', 'plz', 'place'], as_index=False).sum()\n",
    "#df_16 = df_16.groupby(['name', 'plz', 'place'], as_index=False).sum()"
   ]
  },
  {
   "cell_type": "code",
   "execution_count": 379,
   "metadata": {},
   "outputs": [],
   "source": [
    "#df1 = df.groupby(['name', 'plz', 'place']).sum()\n",
    "#print(df1)\n",
    "#df = pd.merge(df,df1,on=['name', 'plz', 'place'],how='inner')"
   ]
  },
  {
   "cell_type": "code",
   "execution_count": 380,
   "metadata": {},
   "outputs": [],
   "source": [
    "#df.sort(\"diff\").groupby(\"item\", as_index=False).first()\n",
    "#print(df)"
   ]
  },
  {
   "cell_type": "code",
   "execution_count": 381,
   "metadata": {},
   "outputs": [],
   "source": [
    "#df[df.duplicated([\"name\", \"plz\", \"place\"], keep=False)]"
   ]
  },
  {
   "cell_type": "code",
   "execution_count": 382,
   "metadata": {},
   "outputs": [],
   "source": [
    "#tmp = tmp.sort_values([\"Gesamt\"])\n",
    "#tmp = tmp_16.sort_values([\"Gesamt\"])\n",
    "#tmp.drop_duplicates([\"name\", \"plz\", \"place\"], keep=False, inplace=True)\n",
    "#tmp_16.drop_duplicates([\"name\", \"plz\", \"place\"], keep=False, inplace=True)"
   ]
  },
  {
   "cell_type": "code",
   "execution_count": 383,
   "metadata": {
    "collapsed": true
   },
   "outputs": [],
   "source": [
    "#tmp = tmp.loc[:, [\"pid\", \"name\", \"plz\", \"place\"]]\n",
    "#tmp_16 = tmp_16.loc[:, [\"pid\", \"name\", \"plz\", \"place\"]]"
   ]
  },
  {
   "cell_type": "code",
   "execution_count": 384,
   "metadata": {
    "collapsed": true
   },
   "outputs": [],
   "source": [
    "#test = pd.merge(tmp, gp_15, how=\"inner\", on=[\"name\", \"plz\", \"place\"])\n",
    "#test_16 = pd.merge(tmp_16, gp_16, how=\"inner\", on=[\"name\", \"plz\", \"place\"])\n",
    "#print(test)"
   ]
  },
  {
   "cell_type": "code",
   "execution_count": 385,
   "metadata": {},
   "outputs": [],
   "source": [
    "#print(df.shape)\n",
    "#df = pd.concat([df, test], ignore_index=True)\n",
    "#df_16 = pd.concat([df_16, test_16], ignore_index=True)\n",
    "#print(df.shape)"
   ]
  },
  {
   "cell_type": "code",
   "execution_count": 386,
   "metadata": {},
   "outputs": [],
   "source": [
    "#print(df.shape)"
   ]
  },
  {
   "cell_type": "code",
   "execution_count": 387,
   "metadata": {},
   "outputs": [],
   "source": [
    "#df[df.duplicated([\"name\", \"plz\", \"place\"], keep=False)]\n"
   ]
  },
  {
   "cell_type": "code",
   "execution_count": 388,
   "metadata": {},
   "outputs": [],
   "source": [
    "#df_16[df_16.duplicated([\"name\", \"plz\", \"place\"], keep=False)]"
   ]
  },
  {
   "cell_type": "code",
   "execution_count": 389,
   "metadata": {
    "collapsed": true
   },
   "outputs": [],
   "source": [
    "df = df.drop_duplicates([\"name\", \"plz\", \"place\"], keep=False)\n",
    "df_16 = df_16.drop_duplicates([\"name\", \"plz\", \"place\"], keep=False)"
   ]
  },
  {
   "cell_type": "code",
   "execution_count": 390,
   "metadata": {
    "scrolled": true
   },
   "outputs": [
    {
     "name": "stdout",
     "output_type": "stream",
     "text": [
      "6452.10659279\n",
      "5737.57592941\n"
     ]
    }
   ],
   "source": [
    "Total = df['Gesamt'].sum()\n",
    "Total /= (10**8)\n",
    "print (Total)\n",
    "Total_16 = df_16['Gesamt'].sum()\n",
    "Total_16 /= (10**8)\n",
    "print (Total_16)"
   ]
  },
  {
   "cell_type": "code",
   "execution_count": 391,
   "metadata": {},
   "outputs": [],
   "source": [
    "\n",
    "\n",
    "cols = list(df.columns.values) #Make a list of all of the columns in the df\n",
    "cols.pop(cols.index('pid')) #Remove b from list\n",
    "cols.pop(cols.index('name')) #Remove x from list\n",
    "cols.pop(cols.index('plz')) #Remove b from list\n",
    "cols.pop(cols.index('place')) #Remove x from list\n",
    "cols.pop(cols.index('Gesamt')) #Remove b from list\n",
    "df = df[['pid','name', 'plz', 'place', 'Gesamt']+cols] #Create new dataframe with columns in the order you want\n",
    "\n",
    "\n",
    "\n",
    "cols = list(df_16.columns.values) #Make a list of all of the columns in the df\n",
    "cols.pop(cols.index('pid')) #Remove b from list\n",
    "cols.pop(cols.index('name')) #Remove x from list\n",
    "cols.pop(cols.index('plz')) #Remove b from list\n",
    "cols.pop(cols.index('place')) #Remove x from list\n",
    "cols.pop(cols.index('Gesamt')) #Remove b from list\n",
    "df_16 = df_16[['pid','name', 'plz', 'place', 'Gesamt']+cols] #Create new dataframe with columns in the order you want"
   ]
  },
  {
   "cell_type": "code",
   "execution_count": 392,
   "metadata": {
    "collapsed": true,
    "scrolled": true
   },
   "outputs": [],
   "source": [
    "#print(df)\n",
    "#df.dtypes"
   ]
  },
  {
   "cell_type": "code",
   "execution_count": 393,
   "metadata": {
    "collapsed": true
   },
   "outputs": [],
   "source": [
    "# Convert the cents in €. TODO: fix parser \n",
    "df.iloc[:, 4:59] = df.iloc[:, 4:59] / 100\n",
    "#df.iloc[:, 1] = df.iloc[:, 1] / 100\n",
    "df_16.iloc[:, 4:64] = df_16.iloc[:, 4:64] / 100\n",
    "#df_16.iloc[:, 1] = df_16.iloc[:, 1] / 100"
   ]
  },
  {
   "cell_type": "code",
   "execution_count": null,
   "metadata": {
    "collapsed": true
   },
   "outputs": [],
   "source": []
  },
  {
   "cell_type": "code",
   "execution_count": 394,
   "metadata": {},
   "outputs": [
    {
     "name": "stdout",
     "output_type": "stream",
     "text": [
      "6452.10659279 5737.57592941\n"
     ]
    }
   ],
   "source": [
    "# for debugging\n",
    "t_15 = df['Gesamt'].sum()/(10**6)\n",
    "t_16 = df_16['Gesamt'].sum()/(10**6)\n",
    "print(t_15, t_16)"
   ]
  },
  {
   "cell_type": "code",
   "execution_count": 395,
   "metadata": {
    "collapsed": true
   },
   "outputs": [],
   "source": [
    "#print(df)\n",
    "df.fillna(0, inplace=True)\n",
    "df_16.fillna(0, inplace=True)"
   ]
  },
  {
   "cell_type": "code",
   "execution_count": 396,
   "metadata": {
    "collapsed": true
   },
   "outputs": [],
   "source": [
    "p1 = df.loc[:, [\"pid\", \"name\", \"plz\", \"place\"]]\n",
    "p1.sort_values([\"plz\", \"name\", \"pid\"], inplace=True)"
   ]
  },
  {
   "cell_type": "code",
   "execution_count": 397,
   "metadata": {
    "collapsed": true
   },
   "outputs": [],
   "source": [
    "p1.reset_index(drop=True, inplace=True)"
   ]
  },
  {
   "cell_type": "code",
   "execution_count": 398,
   "metadata": {
    "collapsed": true
   },
   "outputs": [],
   "source": [
    "p1.insert(0, 'ID', range(15000000, 15000000 + len(p1)))"
   ]
  },
  {
   "cell_type": "code",
   "execution_count": 399,
   "metadata": {
    "collapsed": true
   },
   "outputs": [],
   "source": [
    "p2 = p1.fillna(0)"
   ]
  },
  {
   "cell_type": "code",
   "execution_count": 400,
   "metadata": {
    "collapsed": true
   },
   "outputs": [],
   "source": [
    "p1_16 = df_16.loc[:, [\"pid\", \"name\", \"plz\", \"place\"]]\n",
    "p1_16.sort_values([\"plz\", \"name\", \"pid\"], inplace=True)"
   ]
  },
  {
   "cell_type": "code",
   "execution_count": 401,
   "metadata": {},
   "outputs": [],
   "source": [
    "#p1[p1.duplicated([\"name\", \"plz\", \"place\"], keep=False)]\n"
   ]
  },
  {
   "cell_type": "code",
   "execution_count": 402,
   "metadata": {},
   "outputs": [],
   "source": [
    "#p1_16[p1_16.duplicated([\"name\", \"plz\", \"place\"], keep=False)]"
   ]
  },
  {
   "cell_type": "code",
   "execution_count": 403,
   "metadata": {
    "collapsed": true
   },
   "outputs": [],
   "source": [
    "r1 = pd.merge(p1, p1_16, how='outer', on=['name', 'plz', 'place'])\n",
    "r1.rename(columns={'pid_x': '2015', 'pid_y': '2016'}, inplace=True)"
   ]
  },
  {
   "cell_type": "code",
   "execution_count": 404,
   "metadata": {},
   "outputs": [
    {
     "data": {
      "text/html": [
       "<div>\n",
       "<style>\n",
       "    .dataframe thead tr:only-child th {\n",
       "        text-align: right;\n",
       "    }\n",
       "\n",
       "    .dataframe thead th {\n",
       "        text-align: left;\n",
       "    }\n",
       "\n",
       "    .dataframe tbody tr th {\n",
       "        vertical-align: top;\n",
       "    }\n",
       "</style>\n",
       "<table border=\"1\" class=\"dataframe\">\n",
       "  <thead>\n",
       "    <tr style=\"text-align: right;\">\n",
       "      <th></th>\n",
       "      <th>ID</th>\n",
       "      <th>2015</th>\n",
       "      <th>name</th>\n",
       "      <th>plz</th>\n",
       "      <th>place</th>\n",
       "      <th>2016</th>\n",
       "    </tr>\n",
       "  </thead>\n",
       "  <tbody>\n",
       "  </tbody>\n",
       "</table>\n",
       "</div>"
      ],
      "text/plain": [
       "Empty DataFrame\n",
       "Columns: [ID, 2015, name, plz, place, 2016]\n",
       "Index: []"
      ]
     },
     "execution_count": 404,
     "metadata": {},
     "output_type": "execute_result"
    }
   ],
   "source": [
    "r1[r1.duplicated([\"name\", \"plz\", \"place\"], keep=False)]"
   ]
  },
  {
   "cell_type": "code",
   "execution_count": 405,
   "metadata": {
    "collapsed": true
   },
   "outputs": [],
   "source": [
    "#'''\n",
    "#Keep for demo and later investigation\n",
    "#r_inner = pd.merge(p1, p1_16, how='inner', on=['name', 'plz', 'place'])\n",
    "#r_inner.rename(columns={'pid_x': '2015', 'pid_y': '2016'}, inplace=True)\n",
    "#remain_15 = p1[~p1.isin(r_inner)].dropna()\n",
    "#remain_16 = p1_16[~p1_16.isin(r_inner)].dropna()\n",
    "#r_comp = r1.copy()\n",
    "#r_comp[~r_comp.isin(r_inner)].dropna()\n",
    "#rem_15 = p1[~p1.isin(r_inner.to_dict('l')).all(1)]\n",
    "#print(r_inner.shape)\n",
    "#r_inner = r_inner.drop_duplicates(\"2015\")\n",
    "#r_inner = r_inner.drop_duplicates(\"2016\")\n",
    "#test = pd.merge(r_inner, rem2_15, how='inner', on=['name', 'plz', 'place'])\n",
    "#print(test)\n",
    "#test = pd.merge(r_inner, rem2_16, how='inner', on=['name', 'plz', 'place'])\n",
    "#print(test)\n",
    "#pd.options.mode.chained_assignment = None\n",
    "#rem2_16.insert(0, \"ID\", np.nan)\n",
    "#rem2_15.rename(columns={'pid': '2015'}, inplace=True)\n",
    "#rem2_16.rename(columns={'pid': '2016'}, inplace=True)#\n",
    "#\n",
    "#print(p1.shape)\n",
    "#print(r_inner.shape)\n",
    "#print(rem2_15.shape)\n",
    "#print(rem2_16.shape)#\n",
    "#\n",
    "#r1 = pd.concat([r_inner, rem2_15])\n",
    "#r1 = pd.concat([r1, rem2_16])#\n",
    "#\n",
    "#r1_old = r1\n",
    "#r_comp = r1\n",
    "#\n",
    "#print(r_comp.shape)\n",
    "#print(r1_old.shape)\n",
    "#print(r_inner.shape)\n",
    "#'''"
   ]
  },
  {
   "cell_type": "code",
   "execution_count": 406,
   "metadata": {
    "collapsed": true
   },
   "outputs": [],
   "source": [
    "#print(r1.shape)\n",
    "#r1 = r1.drop_duplicates(\"2015\")\n",
    "#r1 = r1.drop_duplicates(\"2016\")\n",
    "#print(r1.shape)"
   ]
  },
  {
   "cell_type": "code",
   "execution_count": 407,
   "metadata": {
    "collapsed": true
   },
   "outputs": [],
   "source": [
    "#t4_15 = r_comp['Gesamt'].sum()/(10**6)\n",
    "#t4_16 = r_comp['Gesamt'].sum()/(10**6)\n",
    "#print(t4_15, t4_16)"
   ]
  },
  {
   "cell_type": "code",
   "execution_count": 408,
   "metadata": {
    "collapsed": true
   },
   "outputs": [],
   "source": [
    "#print(r_test)\n",
    "#r1.replace(np.NaN, range(16000000, 16000000 + len(r1)))"
   ]
  },
  {
   "cell_type": "code",
   "execution_count": 409,
   "metadata": {
    "collapsed": true
   },
   "outputs": [],
   "source": [
    "#r1.fillna(value=range(16000000, 16000000 + len(r1)), axis=0)\n",
    "#print(r1)"
   ]
  },
  {
   "cell_type": "code",
   "execution_count": 410,
   "metadata": {
    "collapsed": true
   },
   "outputs": [],
   "source": [
    "#missing_no = r1.loc[:, \"2016\"].isnull().sum()\n",
    "#print(missing_no)"
   ]
  },
  {
   "cell_type": "code",
   "execution_count": 411,
   "metadata": {
    "collapsed": true
   },
   "outputs": [],
   "source": [
    "ids = pd.Series(range(16000000 + len(r1), 16000000, -1))"
   ]
  },
  {
   "cell_type": "code",
   "execution_count": 412,
   "metadata": {
    "collapsed": true
   },
   "outputs": [],
   "source": [
    "r1[\"ID\"].fillna(value=ids, inplace=True)"
   ]
  },
  {
   "cell_type": "code",
   "execution_count": 413,
   "metadata": {
    "collapsed": true
   },
   "outputs": [],
   "source": [
    "#print(r1)"
   ]
  },
  {
   "cell_type": "code",
   "execution_count": 414,
   "metadata": {
    "collapsed": true
   },
   "outputs": [],
   "source": [
    "#print(r1.loc[r1.plz == 91586])"
   ]
  },
  {
   "cell_type": "code",
   "execution_count": 415,
   "metadata": {},
   "outputs": [
    {
     "name": "stdout",
     "output_type": "stream",
     "text": [
      "Empty DataFrame\n",
      "Columns: [ID, 2015, name, plz, place, 2016]\n",
      "Index: []\n"
     ]
    }
   ],
   "source": [
    "print(r1.loc[r1.ID == 10000000.0])"
   ]
  },
  {
   "cell_type": "code",
   "execution_count": 416,
   "metadata": {
    "collapsed": true
   },
   "outputs": [],
   "source": [
    "r1 = r1[['ID', 'name', 'plz', 'place', '2015', '2016']]"
   ]
  },
  {
   "cell_type": "code",
   "execution_count": 417,
   "metadata": {
    "collapsed": true
   },
   "outputs": [],
   "source": [
    "r1[\"ID\"] = r1[\"ID\"].astype(int)"
   ]
  },
  {
   "cell_type": "code",
   "execution_count": 418,
   "metadata": {},
   "outputs": [
    {
     "name": "stdout",
     "output_type": "stream",
     "text": [
      "              ID                                               name    plz  \\\n",
      "0       15000000  Landeshauptstadt Dresden vertreten durch die O...   1001   \n",
      "1       15000001  ERHA Ernteland GmbH & Co. KG d.v.d.d.erha 1 Ve...   1067   \n",
      "2       15000002  Landesverein Saechsischer Heimatschutz e. V. v...   1067   \n",
      "3       15000003  Umweltzentrum Dresden e. V. vertreten durch de...   1067   \n",
      "4       15000004                            FS Sachsen/Bst. Dresden   1076   \n",
      "5       15000005                                               SMUL   1076   \n",
      "6       15000006                                    Naumann, Martin   1099   \n",
      "7       15000007                       Saechsische Tierseuchenkasse   1099   \n",
      "8       15000008  TMGS Tourismus Marketing Gesellschaft Sachsen ...   1099   \n",
      "9       15000009                                     Vogel, Steffen   1108   \n",
      "10      15000010                                  Schiefner, Reiner   1109   \n",
      "11      15000011  MEGA - Das Fach-Zentrum fuer Fleischerei und G...   1127   \n",
      "12      15000012  AG Naturschutzinstitut Region Dresden eV vertr...   1129   \n",
      "13      15000013  Fruehgemuesezentrum Kaditz GmbH vertreten durc...   1139   \n",
      "14      15000014                          Franz Bio-Bauernhof, Ines   1156   \n",
      "15      15000015                                    Franz, Wolfgang   1156   \n",
      "16      15000016                                   Henker, Christel   1156   \n",
      "17      15000017  Irmer GbR vertreten durch Steffen od. Susann I...   1156   \n",
      "18      15000018  Landgraf & Richter GbR vertreten durch Katrin ...   1156   \n",
      "19      15000019  Probst VORWERK PODEMUS Oekologischer Landbau, ...   1156   \n",
      "20      15000020  Reitanlage Gompitz GmbH vertreten durch die Ge...   1156   \n",
      "21      15000021                                     Rump, Matthias   1156   \n",
      "22      15000022  Schmidt GbR Gohlis vertreten durch Mathias, Ut...   1156   \n",
      "23      15000023                                      Wehner, Bernd   1156   \n",
      "24      15000024                                      Kuehne, Arndt   1157   \n",
      "25      15000025                                  Kuehne, Hans-Bodo   1157   \n",
      "26      15000026                                    Kuehne, Steffen   1157   \n",
      "27      15000027                                     Kulow, Hermann   1187   \n",
      "28      15000028               Worm Landwirtschaftsbetrieb, Andreas   1239   \n",
      "29      15000029                                        Wolf, Bernd   1279   \n",
      "...          ...                                                ...    ...   \n",
      "297811  16000030              Forstbetriebsgemeinschaft Großer Horn  99955   \n",
      "297812  16000029                                Gemeinde Herbsleben  99955   \n",
      "297813  16000028  Landwirtschaftsbetrieb Thomas Huntgeburth UG (...  99955   \n",
      "297814  16000027                                       Müller, Marc  99955   \n",
      "297815  16000026                                      Stiller, Jens  99958   \n",
      "297816  16000025                               Kleinschmidt, Markus  99974   \n",
      "297817  16000024                                    Beil, Sebastian  99976   \n",
      "297818  16000023                                 Sternadel, Mathias  99976   \n",
      "297819  16000022        Dr. Günther Breitbarth und Klaus Breitbarth  99986   \n",
      "297820  16000021               Eheleute Angelika und Horst Hartmann  99986   \n",
      "297821  16000020                                      Hecht, Ronald  99986   \n",
      "297822  16000019                                    Kompst, Michael  99986   \n",
      "297823  16000018                         Laubgenossenschaft Langula  99986   \n",
      "297824  16000017                         Peterseim, Maria-Elisabeth  99986   \n",
      "297825  16000016                                  Schill, Sebastian  99986   \n",
      "297826  16000015                                     Schütz, Gerald  99986   \n",
      "297827  16000014                                  Stollberg, Daniel  99986   \n",
      "297828  16000013                 Eheleute Elke und Gerhard Schröter  99988   \n",
      "297829  16000012       Forstbetriebsgemeinschaft Mühlberg Schönberg  99988   \n",
      "297830  16000011              Forstbetriebsgemeinschaft Wendehausen  99988   \n",
      "297831  16000010                                      Hunstock, Kai  99988   \n",
      "297832  16000009                             Hof Schlüter-Craes GbR  99994   \n",
      "297833  16000008                                        Kunze, Jens  99994   \n",
      "297834  16000007            Trink- u. Abwasserzweckverband \"Notter\"  99994   \n",
      "297835  16000006                                        Cott, Karin  99996   \n",
      "297836  16000005                                    Knöpfel, Marcel  99996   \n",
      "297837  16000004               Eheleute Christine und Günter Glaser  99998   \n",
      "297838  16000003                                  Eisenhardt, Georg  99998   \n",
      "297839  16000002                                    Gemeinde Körner  99998   \n",
      "297840  16000001                                       Meyer, Heinz  99998   \n",
      "\n",
      "                            place                                  2015  \\\n",
      "0                    Dresden, Sta  a18d24e9-4f7b-47f1-a151-d2f9959bd15c   \n",
      "1                    Dresden, Sta  89219386-bb89-4b93-bade-103b8d707b2d   \n",
      "2                    Dresden, Sta  c3fc5626-6cfd-462b-b2c5-10e19bbb57e4   \n",
      "3                    Dresden, Sta  9ab0b9fc-c852-4325-869d-e442ec355ff0   \n",
      "4                    Dresden, Sta  190d777d-b5e0-4593-a935-75e9966e496e   \n",
      "5                    Dresden, Sta  fa02ad18-4000-467e-b325-11781966c196   \n",
      "6                    Dresden, Sta  fcbf32ac-beb9-4809-9950-a5b04b82ab05   \n",
      "7                    Dresden, Sta  e3e49b10-cc8a-4c38-bc98-15dbbcd28abb   \n",
      "8                    Dresden, Sta  a0c9a945-8222-4eb2-98c4-4a44d1d91159   \n",
      "9                    Dresden, Sta  dd50db18-3e90-4839-ae12-f22b80f665a6   \n",
      "10                   Dresden, Sta  607b46cb-0b6f-407e-a6bc-c1cee2af058c   \n",
      "11                   Dresden, Sta  97448e9b-af73-4057-8d83-782f90014b04   \n",
      "12                   Dresden, Sta  ef72bcbd-e1ad-4c2e-97e7-711f9d2bea45   \n",
      "13                   Dresden, Sta  6a6599d7-ad98-493d-90df-b962bbbdc4cf   \n",
      "14                   Dresden, Sta  98c80262-1968-403b-8142-3375a7aa14c1   \n",
      "15                   Dresden, Sta  6ac9bebd-55d5-47ff-8cc8-8b9a435b5199   \n",
      "16                   Dresden, Sta  b6ddf8db-6e6d-4c17-a212-4faada681418   \n",
      "17                   Dresden, Sta  bda457d4-2c86-4ce1-9ce8-052a09b84dd8   \n",
      "18                   Dresden, Sta  4933d835-bc8b-407c-8e9b-1d3d4ea99cfb   \n",
      "19                   Dresden, Sta  43786a91-5fef-4477-bfbc-5dc5daf6dc99   \n",
      "20                   Dresden, Sta  163a2756-b821-4fe9-870f-f2bbc75d3bb4   \n",
      "21                   Dresden, Sta  b0ea02f6-34cc-47da-a153-1aada8fce8f2   \n",
      "22                   Dresden, Sta  534b7588-1212-4c9e-820b-04d5e3a6e96c   \n",
      "23                   Dresden, Sta  f218d761-239e-494d-8005-bd325c5f6d9c   \n",
      "24                   Dresden, Sta  83954300-34bf-4cbc-b4b2-a1805280458c   \n",
      "25                   Dresden, Sta  5af072e5-a518-45f0-b1c2-599632d63fc4   \n",
      "26                   Dresden, Sta  60de1c6c-c008-4173-8bdb-6388e57cca85   \n",
      "27                           Grün  049d3ddb-a59e-44bd-b261-eaf13bd71c4a   \n",
      "28                   Dresden, Sta  acb2faa1-2fb9-4f79-af04-ba114cf6d776   \n",
      "29                   Dresden, Sta  90d53bb1-b9e8-4a76-b2ef-d58c80d40ee9   \n",
      "...                           ...                                   ...   \n",
      "297811                Mittelsömme                                   NaN   \n",
      "297812                   Herbsleb                                   NaN   \n",
      "297813                   Herbsleb                                   NaN   \n",
      "297814                Mittelsömme                                   NaN   \n",
      "297815                        Ton                                   NaN   \n",
      "297816  Mühlhausen/Thüringen, Sta                                   NaN   \n",
      "297817                       Anro                                   NaN   \n",
      "297818                       Anro                                   NaN   \n",
      "297819                       Vogt                                   NaN   \n",
      "297820                       Vogt                                   NaN   \n",
      "297821                       Vogt                                   NaN   \n",
      "297822                   Flarchhe                                   NaN   \n",
      "297823                       Vogt                                   NaN   \n",
      "297824                 Südeichsfe                                   NaN   \n",
      "297825                       Vogt                                   NaN   \n",
      "297826                       Vogt                                   NaN   \n",
      "297827                       Vogt                                   NaN   \n",
      "297828                 Südeichsfe                                   NaN   \n",
      "297829                 Südeichsfe                                   NaN   \n",
      "297830                 Südeichsfe                                   NaN   \n",
      "297831                 Südeichsfe                                   NaN   \n",
      "297832            Schlotheim, Sta                                   NaN   \n",
      "297833            Schlotheim, Sta                                   NaN   \n",
      "297834            Schlotheim, Sta                                   NaN   \n",
      "297835                   Obermehl                                   NaN   \n",
      "297836                   Obermehl                                   NaN   \n",
      "297837                   Weinberg                                   NaN   \n",
      "297838                   Weinberg                                   NaN   \n",
      "297839                       Körn                                   NaN   \n",
      "297840                       Körn                                   NaN   \n",
      "\n",
      "                                        2016  \n",
      "0                                        NaN  \n",
      "1       ecc75901-dbdd-47a1-9729-7bd2c6e09d4e  \n",
      "2       5aa70688-1e10-4f17-ac84-427d2e072a43  \n",
      "3       cfbae3ac-4165-47bc-b359-8b4dfa78cc5b  \n",
      "4       4f2c91ff-e050-4838-8678-a12ef75ca8ee  \n",
      "5       92c28704-6dfd-45d3-964f-82d00b8cf225  \n",
      "6       b0dbad38-0363-42ba-974e-ef0b87707991  \n",
      "7       8a6370b7-ba64-476c-a960-30a11ad5c5e7  \n",
      "8                                        NaN  \n",
      "9       50d82363-f0c7-4989-9a75-49e9039b95a2  \n",
      "10      e1147219-6b58-4794-bb32-aa416243c663  \n",
      "11      84e4a022-238c-4ad6-b4a1-3cf118b198f8  \n",
      "12      4e5d5e11-f09e-4bbf-b3af-e9466274a936  \n",
      "13                                       NaN  \n",
      "14      203d1021-e7aa-4370-a1c1-1baf724c3cf5  \n",
      "15      70006e7e-ec8b-4db4-9ec8-aec59b33289b  \n",
      "16      c81f434b-5d2f-47bf-a78d-d73a077779d1  \n",
      "17      73debee9-0465-4023-86ad-c9d2a27ac63f  \n",
      "18                                       NaN  \n",
      "19      9e4f8432-b881-49f4-b6a5-0e1bd714aebb  \n",
      "20      cd13b567-1c8d-4221-a432-643e4f546140  \n",
      "21      71e2af72-3f0e-4810-bc99-133fbcedbc78  \n",
      "22      38155013-42f1-475c-bc31-94ef4337f6b2  \n",
      "23                                       NaN  \n",
      "24                                       NaN  \n",
      "25      dea87d4e-1fc4-4342-a639-75715b684920  \n",
      "26      4f045f79-6d74-4e66-9194-7e782a7ff2f5  \n",
      "27      a16322d3-28e0-46ae-ad1b-d3976c4e5a21  \n",
      "28      6104a441-7fe2-4fcd-8379-c7c58fb5eb52  \n",
      "29      4afc8ec5-fd55-44fc-a5fd-fff6b90712fd  \n",
      "...                                      ...  \n",
      "297811  695a18e7-b0e7-4553-9eef-b3ed4f5230a2  \n",
      "297812  9b000053-854e-47a1-bd73-3c3ade4330d1  \n",
      "297813  ef7909ba-6469-4685-8979-f301faea3fdd  \n",
      "297814  49bf278f-f443-4da7-8e8d-ba6d1b837df9  \n",
      "297815  b12803c9-c8c8-44de-b723-2e7c433a3e64  \n",
      "297816  3b4e22aa-7ac5-4816-bc5d-2c25cb3bd5dd  \n",
      "297817  23aaf84d-02fd-41c8-897d-22132da89f8a  \n",
      "297818  c241e73d-de99-47d1-ac7e-2b0b3fe31838  \n",
      "297819  a8fd9e0c-fbe4-4b40-9104-aafb10b6a571  \n",
      "297820  da43393d-f11f-4827-aa3d-8216d256b21b  \n",
      "297821  c5fd99f4-d474-40f0-89e5-e30412a351bd  \n",
      "297822  5f400295-df68-4103-ae68-5e396c646f81  \n",
      "297823  25e69e7c-b2da-4449-8223-c8c18af9523c  \n",
      "297824  ba6c893d-db82-4127-92c4-99c07b8dbecd  \n",
      "297825  d225851f-2b58-43be-b6c4-5f229d8abe68  \n",
      "297826  7116ae20-cf60-482f-b8e4-a33a6ce0db3b  \n",
      "297827  465dc2bd-fd23-469f-be54-711f726118fd  \n",
      "297828  319486d2-b0ea-49b3-8858-ab172ef9d814  \n",
      "297829  5db980d9-2ab3-4a3f-94d0-13e6085e24f4  \n",
      "297830  e875a7c2-0ab2-428c-bbd6-6356bd6cfb5b  \n",
      "297831  0d3f9cea-e131-4c14-810e-dcedf4942c21  \n",
      "297832  14255e76-4384-4b42-8af6-39331975854e  \n",
      "297833  4203c16a-20ab-4530-a0ea-d71ecf7f60fe  \n",
      "297834  87ab3750-8d78-4c46-945c-9aea62933f11  \n",
      "297835  517d3250-d596-4fc2-b1f5-a80e59506a9b  \n",
      "297836  b066ba8f-dd11-4a73-aa8d-2f1871f97f82  \n",
      "297837  48874c36-c867-443b-bc8e-2f0108ed6368  \n",
      "297838  ca682cea-36e4-4a2f-b138-05ec0d14975b  \n",
      "297839  c24090f2-0956-4217-b127-bf6eb6eb3eb8  \n",
      "297840  7d5f4bea-45ab-496d-8b49-32be2ddbf223  \n",
      "\n",
      "[297841 rows x 6 columns]\n"
     ]
    }
   ],
   "source": [
    "print(r1)"
   ]
  },
  {
   "cell_type": "code",
   "execution_count": 419,
   "metadata": {},
   "outputs": [
    {
     "name": "stdout",
     "output_type": "stream",
     "text": [
      "(297841, 6)\n"
     ]
    },
    {
     "data": {
      "text/plain": [
       "ID        int64\n",
       "name     object\n",
       "plz       int64\n",
       "place    object\n",
       "2015     object\n",
       "2016     object\n",
       "dtype: object"
      ]
     },
     "execution_count": 419,
     "metadata": {},
     "output_type": "execute_result"
    }
   ],
   "source": [
    "print(r1.shape)\n",
    "r1.dtypes"
   ]
  },
  {
   "cell_type": "code",
   "execution_count": 420,
   "metadata": {
    "collapsed": true
   },
   "outputs": [],
   "source": [
    "r2 = r1.copy()\n",
    "r2.rename(columns={'plz': 'plz_i'}, inplace=True)\n",
    "r2[['plz']] = r2[['plz_i']].astype(str)\n",
    "r2['plz'] = r2['plz'].str.zfill(5)"
   ]
  },
  {
   "cell_type": "code",
   "execution_count": 421,
   "metadata": {},
   "outputs": [
    {
     "name": "stdout",
     "output_type": "stream",
     "text": [
      "              ID                                               name  plz_i  \\\n",
      "0       15000000  Landeshauptstadt Dresden vertreten durch die O...   1001   \n",
      "1       15000001  ERHA Ernteland GmbH & Co. KG d.v.d.d.erha 1 Ve...   1067   \n",
      "2       15000002  Landesverein Saechsischer Heimatschutz e. V. v...   1067   \n",
      "3       15000003  Umweltzentrum Dresden e. V. vertreten durch de...   1067   \n",
      "4       15000004                            FS Sachsen/Bst. Dresden   1076   \n",
      "5       15000005                                               SMUL   1076   \n",
      "6       15000006                                    Naumann, Martin   1099   \n",
      "7       15000007                       Saechsische Tierseuchenkasse   1099   \n",
      "8       15000008  TMGS Tourismus Marketing Gesellschaft Sachsen ...   1099   \n",
      "9       15000009                                     Vogel, Steffen   1108   \n",
      "10      15000010                                  Schiefner, Reiner   1109   \n",
      "11      15000011  MEGA - Das Fach-Zentrum fuer Fleischerei und G...   1127   \n",
      "12      15000012  AG Naturschutzinstitut Region Dresden eV vertr...   1129   \n",
      "13      15000013  Fruehgemuesezentrum Kaditz GmbH vertreten durc...   1139   \n",
      "14      15000014                          Franz Bio-Bauernhof, Ines   1156   \n",
      "15      15000015                                    Franz, Wolfgang   1156   \n",
      "16      15000016                                   Henker, Christel   1156   \n",
      "17      15000017  Irmer GbR vertreten durch Steffen od. Susann I...   1156   \n",
      "18      15000018  Landgraf & Richter GbR vertreten durch Katrin ...   1156   \n",
      "19      15000019  Probst VORWERK PODEMUS Oekologischer Landbau, ...   1156   \n",
      "20      15000020  Reitanlage Gompitz GmbH vertreten durch die Ge...   1156   \n",
      "21      15000021                                     Rump, Matthias   1156   \n",
      "22      15000022  Schmidt GbR Gohlis vertreten durch Mathias, Ut...   1156   \n",
      "23      15000023                                      Wehner, Bernd   1156   \n",
      "24      15000024                                      Kuehne, Arndt   1157   \n",
      "25      15000025                                  Kuehne, Hans-Bodo   1157   \n",
      "26      15000026                                    Kuehne, Steffen   1157   \n",
      "27      15000027                                     Kulow, Hermann   1187   \n",
      "28      15000028               Worm Landwirtschaftsbetrieb, Andreas   1239   \n",
      "29      15000029                                        Wolf, Bernd   1279   \n",
      "...          ...                                                ...    ...   \n",
      "297811  16000030              Forstbetriebsgemeinschaft Großer Horn  99955   \n",
      "297812  16000029                                Gemeinde Herbsleben  99955   \n",
      "297813  16000028  Landwirtschaftsbetrieb Thomas Huntgeburth UG (...  99955   \n",
      "297814  16000027                                       Müller, Marc  99955   \n",
      "297815  16000026                                      Stiller, Jens  99958   \n",
      "297816  16000025                               Kleinschmidt, Markus  99974   \n",
      "297817  16000024                                    Beil, Sebastian  99976   \n",
      "297818  16000023                                 Sternadel, Mathias  99976   \n",
      "297819  16000022        Dr. Günther Breitbarth und Klaus Breitbarth  99986   \n",
      "297820  16000021               Eheleute Angelika und Horst Hartmann  99986   \n",
      "297821  16000020                                      Hecht, Ronald  99986   \n",
      "297822  16000019                                    Kompst, Michael  99986   \n",
      "297823  16000018                         Laubgenossenschaft Langula  99986   \n",
      "297824  16000017                         Peterseim, Maria-Elisabeth  99986   \n",
      "297825  16000016                                  Schill, Sebastian  99986   \n",
      "297826  16000015                                     Schütz, Gerald  99986   \n",
      "297827  16000014                                  Stollberg, Daniel  99986   \n",
      "297828  16000013                 Eheleute Elke und Gerhard Schröter  99988   \n",
      "297829  16000012       Forstbetriebsgemeinschaft Mühlberg Schönberg  99988   \n",
      "297830  16000011              Forstbetriebsgemeinschaft Wendehausen  99988   \n",
      "297831  16000010                                      Hunstock, Kai  99988   \n",
      "297832  16000009                             Hof Schlüter-Craes GbR  99994   \n",
      "297833  16000008                                        Kunze, Jens  99994   \n",
      "297834  16000007            Trink- u. Abwasserzweckverband \"Notter\"  99994   \n",
      "297835  16000006                                        Cott, Karin  99996   \n",
      "297836  16000005                                    Knöpfel, Marcel  99996   \n",
      "297837  16000004               Eheleute Christine und Günter Glaser  99998   \n",
      "297838  16000003                                  Eisenhardt, Georg  99998   \n",
      "297839  16000002                                    Gemeinde Körner  99998   \n",
      "297840  16000001                                       Meyer, Heinz  99998   \n",
      "\n",
      "                            place                                  2015  \\\n",
      "0                    Dresden, Sta  a18d24e9-4f7b-47f1-a151-d2f9959bd15c   \n",
      "1                    Dresden, Sta  89219386-bb89-4b93-bade-103b8d707b2d   \n",
      "2                    Dresden, Sta  c3fc5626-6cfd-462b-b2c5-10e19bbb57e4   \n",
      "3                    Dresden, Sta  9ab0b9fc-c852-4325-869d-e442ec355ff0   \n",
      "4                    Dresden, Sta  190d777d-b5e0-4593-a935-75e9966e496e   \n",
      "5                    Dresden, Sta  fa02ad18-4000-467e-b325-11781966c196   \n",
      "6                    Dresden, Sta  fcbf32ac-beb9-4809-9950-a5b04b82ab05   \n",
      "7                    Dresden, Sta  e3e49b10-cc8a-4c38-bc98-15dbbcd28abb   \n",
      "8                    Dresden, Sta  a0c9a945-8222-4eb2-98c4-4a44d1d91159   \n",
      "9                    Dresden, Sta  dd50db18-3e90-4839-ae12-f22b80f665a6   \n",
      "10                   Dresden, Sta  607b46cb-0b6f-407e-a6bc-c1cee2af058c   \n",
      "11                   Dresden, Sta  97448e9b-af73-4057-8d83-782f90014b04   \n",
      "12                   Dresden, Sta  ef72bcbd-e1ad-4c2e-97e7-711f9d2bea45   \n",
      "13                   Dresden, Sta  6a6599d7-ad98-493d-90df-b962bbbdc4cf   \n",
      "14                   Dresden, Sta  98c80262-1968-403b-8142-3375a7aa14c1   \n",
      "15                   Dresden, Sta  6ac9bebd-55d5-47ff-8cc8-8b9a435b5199   \n",
      "16                   Dresden, Sta  b6ddf8db-6e6d-4c17-a212-4faada681418   \n",
      "17                   Dresden, Sta  bda457d4-2c86-4ce1-9ce8-052a09b84dd8   \n",
      "18                   Dresden, Sta  4933d835-bc8b-407c-8e9b-1d3d4ea99cfb   \n",
      "19                   Dresden, Sta  43786a91-5fef-4477-bfbc-5dc5daf6dc99   \n",
      "20                   Dresden, Sta  163a2756-b821-4fe9-870f-f2bbc75d3bb4   \n",
      "21                   Dresden, Sta  b0ea02f6-34cc-47da-a153-1aada8fce8f2   \n",
      "22                   Dresden, Sta  534b7588-1212-4c9e-820b-04d5e3a6e96c   \n",
      "23                   Dresden, Sta  f218d761-239e-494d-8005-bd325c5f6d9c   \n",
      "24                   Dresden, Sta  83954300-34bf-4cbc-b4b2-a1805280458c   \n",
      "25                   Dresden, Sta  5af072e5-a518-45f0-b1c2-599632d63fc4   \n",
      "26                   Dresden, Sta  60de1c6c-c008-4173-8bdb-6388e57cca85   \n",
      "27                           Grün  049d3ddb-a59e-44bd-b261-eaf13bd71c4a   \n",
      "28                   Dresden, Sta  acb2faa1-2fb9-4f79-af04-ba114cf6d776   \n",
      "29                   Dresden, Sta  90d53bb1-b9e8-4a76-b2ef-d58c80d40ee9   \n",
      "...                           ...                                   ...   \n",
      "297811                Mittelsömme                                   NaN   \n",
      "297812                   Herbsleb                                   NaN   \n",
      "297813                   Herbsleb                                   NaN   \n",
      "297814                Mittelsömme                                   NaN   \n",
      "297815                        Ton                                   NaN   \n",
      "297816  Mühlhausen/Thüringen, Sta                                   NaN   \n",
      "297817                       Anro                                   NaN   \n",
      "297818                       Anro                                   NaN   \n",
      "297819                       Vogt                                   NaN   \n",
      "297820                       Vogt                                   NaN   \n",
      "297821                       Vogt                                   NaN   \n",
      "297822                   Flarchhe                                   NaN   \n",
      "297823                       Vogt                                   NaN   \n",
      "297824                 Südeichsfe                                   NaN   \n",
      "297825                       Vogt                                   NaN   \n",
      "297826                       Vogt                                   NaN   \n",
      "297827                       Vogt                                   NaN   \n",
      "297828                 Südeichsfe                                   NaN   \n",
      "297829                 Südeichsfe                                   NaN   \n",
      "297830                 Südeichsfe                                   NaN   \n",
      "297831                 Südeichsfe                                   NaN   \n",
      "297832            Schlotheim, Sta                                   NaN   \n",
      "297833            Schlotheim, Sta                                   NaN   \n",
      "297834            Schlotheim, Sta                                   NaN   \n",
      "297835                   Obermehl                                   NaN   \n",
      "297836                   Obermehl                                   NaN   \n",
      "297837                   Weinberg                                   NaN   \n",
      "297838                   Weinberg                                   NaN   \n",
      "297839                       Körn                                   NaN   \n",
      "297840                       Körn                                   NaN   \n",
      "\n",
      "                                        2016    plz  \n",
      "0                                        NaN  01001  \n",
      "1       ecc75901-dbdd-47a1-9729-7bd2c6e09d4e  01067  \n",
      "2       5aa70688-1e10-4f17-ac84-427d2e072a43  01067  \n",
      "3       cfbae3ac-4165-47bc-b359-8b4dfa78cc5b  01067  \n",
      "4       4f2c91ff-e050-4838-8678-a12ef75ca8ee  01076  \n",
      "5       92c28704-6dfd-45d3-964f-82d00b8cf225  01076  \n",
      "6       b0dbad38-0363-42ba-974e-ef0b87707991  01099  \n",
      "7       8a6370b7-ba64-476c-a960-30a11ad5c5e7  01099  \n",
      "8                                        NaN  01099  \n",
      "9       50d82363-f0c7-4989-9a75-49e9039b95a2  01108  \n",
      "10      e1147219-6b58-4794-bb32-aa416243c663  01109  \n",
      "11      84e4a022-238c-4ad6-b4a1-3cf118b198f8  01127  \n",
      "12      4e5d5e11-f09e-4bbf-b3af-e9466274a936  01129  \n",
      "13                                       NaN  01139  \n",
      "14      203d1021-e7aa-4370-a1c1-1baf724c3cf5  01156  \n",
      "15      70006e7e-ec8b-4db4-9ec8-aec59b33289b  01156  \n",
      "16      c81f434b-5d2f-47bf-a78d-d73a077779d1  01156  \n",
      "17      73debee9-0465-4023-86ad-c9d2a27ac63f  01156  \n",
      "18                                       NaN  01156  \n",
      "19      9e4f8432-b881-49f4-b6a5-0e1bd714aebb  01156  \n",
      "20      cd13b567-1c8d-4221-a432-643e4f546140  01156  \n",
      "21      71e2af72-3f0e-4810-bc99-133fbcedbc78  01156  \n",
      "22      38155013-42f1-475c-bc31-94ef4337f6b2  01156  \n",
      "23                                       NaN  01156  \n",
      "24                                       NaN  01157  \n",
      "25      dea87d4e-1fc4-4342-a639-75715b684920  01157  \n",
      "26      4f045f79-6d74-4e66-9194-7e782a7ff2f5  01157  \n",
      "27      a16322d3-28e0-46ae-ad1b-d3976c4e5a21  01187  \n",
      "28      6104a441-7fe2-4fcd-8379-c7c58fb5eb52  01239  \n",
      "29      4afc8ec5-fd55-44fc-a5fd-fff6b90712fd  01279  \n",
      "...                                      ...    ...  \n",
      "297811  695a18e7-b0e7-4553-9eef-b3ed4f5230a2  99955  \n",
      "297812  9b000053-854e-47a1-bd73-3c3ade4330d1  99955  \n",
      "297813  ef7909ba-6469-4685-8979-f301faea3fdd  99955  \n",
      "297814  49bf278f-f443-4da7-8e8d-ba6d1b837df9  99955  \n",
      "297815  b12803c9-c8c8-44de-b723-2e7c433a3e64  99958  \n",
      "297816  3b4e22aa-7ac5-4816-bc5d-2c25cb3bd5dd  99974  \n",
      "297817  23aaf84d-02fd-41c8-897d-22132da89f8a  99976  \n",
      "297818  c241e73d-de99-47d1-ac7e-2b0b3fe31838  99976  \n",
      "297819  a8fd9e0c-fbe4-4b40-9104-aafb10b6a571  99986  \n",
      "297820  da43393d-f11f-4827-aa3d-8216d256b21b  99986  \n",
      "297821  c5fd99f4-d474-40f0-89e5-e30412a351bd  99986  \n",
      "297822  5f400295-df68-4103-ae68-5e396c646f81  99986  \n",
      "297823  25e69e7c-b2da-4449-8223-c8c18af9523c  99986  \n",
      "297824  ba6c893d-db82-4127-92c4-99c07b8dbecd  99986  \n",
      "297825  d225851f-2b58-43be-b6c4-5f229d8abe68  99986  \n",
      "297826  7116ae20-cf60-482f-b8e4-a33a6ce0db3b  99986  \n",
      "297827  465dc2bd-fd23-469f-be54-711f726118fd  99986  \n",
      "297828  319486d2-b0ea-49b3-8858-ab172ef9d814  99988  \n",
      "297829  5db980d9-2ab3-4a3f-94d0-13e6085e24f4  99988  \n",
      "297830  e875a7c2-0ab2-428c-bbd6-6356bd6cfb5b  99988  \n",
      "297831  0d3f9cea-e131-4c14-810e-dcedf4942c21  99988  \n",
      "297832  14255e76-4384-4b42-8af6-39331975854e  99994  \n",
      "297833  4203c16a-20ab-4530-a0ea-d71ecf7f60fe  99994  \n",
      "297834  87ab3750-8d78-4c46-945c-9aea62933f11  99994  \n",
      "297835  517d3250-d596-4fc2-b1f5-a80e59506a9b  99996  \n",
      "297836  b066ba8f-dd11-4a73-aa8d-2f1871f97f82  99996  \n",
      "297837  48874c36-c867-443b-bc8e-2f0108ed6368  99998  \n",
      "297838  ca682cea-36e4-4a2f-b138-05ec0d14975b  99998  \n",
      "297839  c24090f2-0956-4217-b127-bf6eb6eb3eb8  99998  \n",
      "297840  7d5f4bea-45ab-496d-8b49-32be2ddbf223  99998  \n",
      "\n",
      "[297841 rows x 7 columns]\n"
     ]
    }
   ],
   "source": [
    "print(r2)"
   ]
  },
  {
   "cell_type": "code",
   "execution_count": 422,
   "metadata": {
    "collapsed": true
   },
   "outputs": [],
   "source": [
    "mem1 = r2.memory_usage(index=True, deep=True).sum()\n",
    "mem1 /= (1024 * 1024)"
   ]
  },
  {
   "cell_type": "code",
   "execution_count": 423,
   "metadata": {},
   "outputs": [
    {
     "name": "stdout",
     "output_type": "stream",
     "text": [
      "116.324575424\n"
     ]
    }
   ],
   "source": [
    "print(mem1)"
   ]
  },
  {
   "cell_type": "code",
   "execution_count": 424,
   "metadata": {},
   "outputs": [
    {
     "name": "stdout",
     "output_type": "stream",
     "text": [
      "65.6702613831\n"
     ]
    }
   ],
   "source": [
    "BauerID = r2.copy()\n",
    "BauerID.rename(columns={'ID': 'BauerID'}, inplace=True)\n",
    "BauerID = BauerID.loc[:, [\"BauerID\", \"name\", \"plz\", \"place\"]]\n",
    "mem2 = BauerID.memory_usage(index=True, deep=True).sum()\n",
    "mem2 /= (1024 * 1024)\n",
    "print(mem2)"
   ]
  },
  {
   "cell_type": "code",
   "execution_count": 425,
   "metadata": {},
   "outputs": [
    {
     "data": {
      "text/html": [
       "<div>\n",
       "<style>\n",
       "    .dataframe thead tr:only-child th {\n",
       "        text-align: right;\n",
       "    }\n",
       "\n",
       "    .dataframe thead th {\n",
       "        text-align: left;\n",
       "    }\n",
       "\n",
       "    .dataframe tbody tr th {\n",
       "        vertical-align: top;\n",
       "    }\n",
       "</style>\n",
       "<table border=\"1\" class=\"dataframe\">\n",
       "  <thead>\n",
       "    <tr style=\"text-align: right;\">\n",
       "      <th></th>\n",
       "      <th>BauerID</th>\n",
       "      <th>name</th>\n",
       "      <th>plz</th>\n",
       "      <th>place</th>\n",
       "    </tr>\n",
       "  </thead>\n",
       "  <tbody>\n",
       "  </tbody>\n",
       "</table>\n",
       "</div>"
      ],
      "text/plain": [
       "Empty DataFrame\n",
       "Columns: [BauerID, name, plz, place]\n",
       "Index: []"
      ]
     },
     "execution_count": 425,
     "metadata": {},
     "output_type": "execute_result"
    }
   ],
   "source": [
    "BauerID[BauerID.duplicated([\"name\", \"plz\", \"place\"], keep=False)]"
   ]
  },
  {
   "cell_type": "code",
   "execution_count": 426,
   "metadata": {
    "collapsed": true
   },
   "outputs": [],
   "source": [
    "BauerID.to_csv('BauerID.csv', encoding='utf-8', index=False)"
   ]
  },
  {
   "cell_type": "code",
   "execution_count": 427,
   "metadata": {},
   "outputs": [
    {
     "name": "stdout",
     "output_type": "stream",
     "text": [
      "         BauerID                                               name    plz  \\\n",
      "0       15000000  Landeshauptstadt Dresden vertreten durch die O...  01001   \n",
      "1       15000001  ERHA Ernteland GmbH & Co. KG d.v.d.d.erha 1 Ve...  01067   \n",
      "2       15000002  Landesverein Saechsischer Heimatschutz e. V. v...  01067   \n",
      "3       15000003  Umweltzentrum Dresden e. V. vertreten durch de...  01067   \n",
      "4       15000004                            FS Sachsen/Bst. Dresden  01076   \n",
      "5       15000005                                               SMUL  01076   \n",
      "6       15000006                                    Naumann, Martin  01099   \n",
      "7       15000007                       Saechsische Tierseuchenkasse  01099   \n",
      "8       15000008  TMGS Tourismus Marketing Gesellschaft Sachsen ...  01099   \n",
      "9       15000009                                     Vogel, Steffen  01108   \n",
      "10      15000010                                  Schiefner, Reiner  01109   \n",
      "11      15000011  MEGA - Das Fach-Zentrum fuer Fleischerei und G...  01127   \n",
      "12      15000012  AG Naturschutzinstitut Region Dresden eV vertr...  01129   \n",
      "13      15000013  Fruehgemuesezentrum Kaditz GmbH vertreten durc...  01139   \n",
      "14      15000014                          Franz Bio-Bauernhof, Ines  01156   \n",
      "15      15000015                                    Franz, Wolfgang  01156   \n",
      "16      15000016                                   Henker, Christel  01156   \n",
      "17      15000017  Irmer GbR vertreten durch Steffen od. Susann I...  01156   \n",
      "18      15000018  Landgraf & Richter GbR vertreten durch Katrin ...  01156   \n",
      "19      15000019  Probst VORWERK PODEMUS Oekologischer Landbau, ...  01156   \n",
      "20      15000020  Reitanlage Gompitz GmbH vertreten durch die Ge...  01156   \n",
      "21      15000021                                     Rump, Matthias  01156   \n",
      "22      15000022  Schmidt GbR Gohlis vertreten durch Mathias, Ut...  01156   \n",
      "23      15000023                                      Wehner, Bernd  01156   \n",
      "24      15000024                                      Kuehne, Arndt  01157   \n",
      "25      15000025                                  Kuehne, Hans-Bodo  01157   \n",
      "26      15000026                                    Kuehne, Steffen  01157   \n",
      "27      15000027                                     Kulow, Hermann  01187   \n",
      "28      15000028               Worm Landwirtschaftsbetrieb, Andreas  01239   \n",
      "29      15000029                                        Wolf, Bernd  01279   \n",
      "...          ...                                                ...    ...   \n",
      "297811  16000030              Forstbetriebsgemeinschaft Großer Horn  99955   \n",
      "297812  16000029                                Gemeinde Herbsleben  99955   \n",
      "297813  16000028  Landwirtschaftsbetrieb Thomas Huntgeburth UG (...  99955   \n",
      "297814  16000027                                       Müller, Marc  99955   \n",
      "297815  16000026                                      Stiller, Jens  99958   \n",
      "297816  16000025                               Kleinschmidt, Markus  99974   \n",
      "297817  16000024                                    Beil, Sebastian  99976   \n",
      "297818  16000023                                 Sternadel, Mathias  99976   \n",
      "297819  16000022        Dr. Günther Breitbarth und Klaus Breitbarth  99986   \n",
      "297820  16000021               Eheleute Angelika und Horst Hartmann  99986   \n",
      "297821  16000020                                      Hecht, Ronald  99986   \n",
      "297822  16000019                                    Kompst, Michael  99986   \n",
      "297823  16000018                         Laubgenossenschaft Langula  99986   \n",
      "297824  16000017                         Peterseim, Maria-Elisabeth  99986   \n",
      "297825  16000016                                  Schill, Sebastian  99986   \n",
      "297826  16000015                                     Schütz, Gerald  99986   \n",
      "297827  16000014                                  Stollberg, Daniel  99986   \n",
      "297828  16000013                 Eheleute Elke und Gerhard Schröter  99988   \n",
      "297829  16000012       Forstbetriebsgemeinschaft Mühlberg Schönberg  99988   \n",
      "297830  16000011              Forstbetriebsgemeinschaft Wendehausen  99988   \n",
      "297831  16000010                                      Hunstock, Kai  99988   \n",
      "297832  16000009                             Hof Schlüter-Craes GbR  99994   \n",
      "297833  16000008                                        Kunze, Jens  99994   \n",
      "297834  16000007            Trink- u. Abwasserzweckverband \"Notter\"  99994   \n",
      "297835  16000006                                        Cott, Karin  99996   \n",
      "297836  16000005                                    Knöpfel, Marcel  99996   \n",
      "297837  16000004               Eheleute Christine und Günter Glaser  99998   \n",
      "297838  16000003                                  Eisenhardt, Georg  99998   \n",
      "297839  16000002                                    Gemeinde Körner  99998   \n",
      "297840  16000001                                       Meyer, Heinz  99998   \n",
      "\n",
      "                            place  \n",
      "0                    Dresden, Sta  \n",
      "1                    Dresden, Sta  \n",
      "2                    Dresden, Sta  \n",
      "3                    Dresden, Sta  \n",
      "4                    Dresden, Sta  \n",
      "5                    Dresden, Sta  \n",
      "6                    Dresden, Sta  \n",
      "7                    Dresden, Sta  \n",
      "8                    Dresden, Sta  \n",
      "9                    Dresden, Sta  \n",
      "10                   Dresden, Sta  \n",
      "11                   Dresden, Sta  \n",
      "12                   Dresden, Sta  \n",
      "13                   Dresden, Sta  \n",
      "14                   Dresden, Sta  \n",
      "15                   Dresden, Sta  \n",
      "16                   Dresden, Sta  \n",
      "17                   Dresden, Sta  \n",
      "18                   Dresden, Sta  \n",
      "19                   Dresden, Sta  \n",
      "20                   Dresden, Sta  \n",
      "21                   Dresden, Sta  \n",
      "22                   Dresden, Sta  \n",
      "23                   Dresden, Sta  \n",
      "24                   Dresden, Sta  \n",
      "25                   Dresden, Sta  \n",
      "26                   Dresden, Sta  \n",
      "27                           Grün  \n",
      "28                   Dresden, Sta  \n",
      "29                   Dresden, Sta  \n",
      "...                           ...  \n",
      "297811                Mittelsömme  \n",
      "297812                   Herbsleb  \n",
      "297813                   Herbsleb  \n",
      "297814                Mittelsömme  \n",
      "297815                        Ton  \n",
      "297816  Mühlhausen/Thüringen, Sta  \n",
      "297817                       Anro  \n",
      "297818                       Anro  \n",
      "297819                       Vogt  \n",
      "297820                       Vogt  \n",
      "297821                       Vogt  \n",
      "297822                   Flarchhe  \n",
      "297823                       Vogt  \n",
      "297824                 Südeichsfe  \n",
      "297825                       Vogt  \n",
      "297826                       Vogt  \n",
      "297827                       Vogt  \n",
      "297828                 Südeichsfe  \n",
      "297829                 Südeichsfe  \n",
      "297830                 Südeichsfe  \n",
      "297831                 Südeichsfe  \n",
      "297832            Schlotheim, Sta  \n",
      "297833            Schlotheim, Sta  \n",
      "297834            Schlotheim, Sta  \n",
      "297835                   Obermehl  \n",
      "297836                   Obermehl  \n",
      "297837                   Weinberg  \n",
      "297838                   Weinberg  \n",
      "297839                       Körn  \n",
      "297840                       Körn  \n",
      "\n",
      "[297841 rows x 4 columns]\n"
     ]
    }
   ],
   "source": [
    "print(BauerID)"
   ]
  },
  {
   "cell_type": "code",
   "execution_count": 428,
   "metadata": {},
   "outputs": [
    {
     "name": "stdout",
     "output_type": "stream",
     "text": [
      "         BauerID                                  2015  \\\n",
      "0       15000000  a18d24e9-4f7b-47f1-a151-d2f9959bd15c   \n",
      "1       15000001  89219386-bb89-4b93-bade-103b8d707b2d   \n",
      "2       15000002  c3fc5626-6cfd-462b-b2c5-10e19bbb57e4   \n",
      "3       15000003  9ab0b9fc-c852-4325-869d-e442ec355ff0   \n",
      "4       15000004  190d777d-b5e0-4593-a935-75e9966e496e   \n",
      "5       15000005  fa02ad18-4000-467e-b325-11781966c196   \n",
      "6       15000006  fcbf32ac-beb9-4809-9950-a5b04b82ab05   \n",
      "7       15000007  e3e49b10-cc8a-4c38-bc98-15dbbcd28abb   \n",
      "8       15000008  a0c9a945-8222-4eb2-98c4-4a44d1d91159   \n",
      "9       15000009  dd50db18-3e90-4839-ae12-f22b80f665a6   \n",
      "10      15000010  607b46cb-0b6f-407e-a6bc-c1cee2af058c   \n",
      "11      15000011  97448e9b-af73-4057-8d83-782f90014b04   \n",
      "12      15000012  ef72bcbd-e1ad-4c2e-97e7-711f9d2bea45   \n",
      "13      15000013  6a6599d7-ad98-493d-90df-b962bbbdc4cf   \n",
      "14      15000014  98c80262-1968-403b-8142-3375a7aa14c1   \n",
      "15      15000015  6ac9bebd-55d5-47ff-8cc8-8b9a435b5199   \n",
      "16      15000016  b6ddf8db-6e6d-4c17-a212-4faada681418   \n",
      "17      15000017  bda457d4-2c86-4ce1-9ce8-052a09b84dd8   \n",
      "18      15000018  4933d835-bc8b-407c-8e9b-1d3d4ea99cfb   \n",
      "19      15000019  43786a91-5fef-4477-bfbc-5dc5daf6dc99   \n",
      "20      15000020  163a2756-b821-4fe9-870f-f2bbc75d3bb4   \n",
      "21      15000021  b0ea02f6-34cc-47da-a153-1aada8fce8f2   \n",
      "22      15000022  534b7588-1212-4c9e-820b-04d5e3a6e96c   \n",
      "23      15000023  f218d761-239e-494d-8005-bd325c5f6d9c   \n",
      "24      15000024  83954300-34bf-4cbc-b4b2-a1805280458c   \n",
      "25      15000025  5af072e5-a518-45f0-b1c2-599632d63fc4   \n",
      "26      15000026  60de1c6c-c008-4173-8bdb-6388e57cca85   \n",
      "27      15000027  049d3ddb-a59e-44bd-b261-eaf13bd71c4a   \n",
      "28      15000028  acb2faa1-2fb9-4f79-af04-ba114cf6d776   \n",
      "29      15000029  90d53bb1-b9e8-4a76-b2ef-d58c80d40ee9   \n",
      "...          ...                                   ...   \n",
      "297811  16000030                                   NaN   \n",
      "297812  16000029                                   NaN   \n",
      "297813  16000028                                   NaN   \n",
      "297814  16000027                                   NaN   \n",
      "297815  16000026                                   NaN   \n",
      "297816  16000025                                   NaN   \n",
      "297817  16000024                                   NaN   \n",
      "297818  16000023                                   NaN   \n",
      "297819  16000022                                   NaN   \n",
      "297820  16000021                                   NaN   \n",
      "297821  16000020                                   NaN   \n",
      "297822  16000019                                   NaN   \n",
      "297823  16000018                                   NaN   \n",
      "297824  16000017                                   NaN   \n",
      "297825  16000016                                   NaN   \n",
      "297826  16000015                                   NaN   \n",
      "297827  16000014                                   NaN   \n",
      "297828  16000013                                   NaN   \n",
      "297829  16000012                                   NaN   \n",
      "297830  16000011                                   NaN   \n",
      "297831  16000010                                   NaN   \n",
      "297832  16000009                                   NaN   \n",
      "297833  16000008                                   NaN   \n",
      "297834  16000007                                   NaN   \n",
      "297835  16000006                                   NaN   \n",
      "297836  16000005                                   NaN   \n",
      "297837  16000004                                   NaN   \n",
      "297838  16000003                                   NaN   \n",
      "297839  16000002                                   NaN   \n",
      "297840  16000001                                   NaN   \n",
      "\n",
      "                                        2016  \n",
      "0                                        NaN  \n",
      "1       ecc75901-dbdd-47a1-9729-7bd2c6e09d4e  \n",
      "2       5aa70688-1e10-4f17-ac84-427d2e072a43  \n",
      "3       cfbae3ac-4165-47bc-b359-8b4dfa78cc5b  \n",
      "4       4f2c91ff-e050-4838-8678-a12ef75ca8ee  \n",
      "5       92c28704-6dfd-45d3-964f-82d00b8cf225  \n",
      "6       b0dbad38-0363-42ba-974e-ef0b87707991  \n",
      "7       8a6370b7-ba64-476c-a960-30a11ad5c5e7  \n",
      "8                                        NaN  \n",
      "9       50d82363-f0c7-4989-9a75-49e9039b95a2  \n",
      "10      e1147219-6b58-4794-bb32-aa416243c663  \n",
      "11      84e4a022-238c-4ad6-b4a1-3cf118b198f8  \n",
      "12      4e5d5e11-f09e-4bbf-b3af-e9466274a936  \n",
      "13                                       NaN  \n",
      "14      203d1021-e7aa-4370-a1c1-1baf724c3cf5  \n",
      "15      70006e7e-ec8b-4db4-9ec8-aec59b33289b  \n",
      "16      c81f434b-5d2f-47bf-a78d-d73a077779d1  \n",
      "17      73debee9-0465-4023-86ad-c9d2a27ac63f  \n",
      "18                                       NaN  \n",
      "19      9e4f8432-b881-49f4-b6a5-0e1bd714aebb  \n",
      "20      cd13b567-1c8d-4221-a432-643e4f546140  \n",
      "21      71e2af72-3f0e-4810-bc99-133fbcedbc78  \n",
      "22      38155013-42f1-475c-bc31-94ef4337f6b2  \n",
      "23                                       NaN  \n",
      "24                                       NaN  \n",
      "25      dea87d4e-1fc4-4342-a639-75715b684920  \n",
      "26      4f045f79-6d74-4e66-9194-7e782a7ff2f5  \n",
      "27      a16322d3-28e0-46ae-ad1b-d3976c4e5a21  \n",
      "28      6104a441-7fe2-4fcd-8379-c7c58fb5eb52  \n",
      "29      4afc8ec5-fd55-44fc-a5fd-fff6b90712fd  \n",
      "...                                      ...  \n",
      "297811  695a18e7-b0e7-4553-9eef-b3ed4f5230a2  \n",
      "297812  9b000053-854e-47a1-bd73-3c3ade4330d1  \n",
      "297813  ef7909ba-6469-4685-8979-f301faea3fdd  \n",
      "297814  49bf278f-f443-4da7-8e8d-ba6d1b837df9  \n",
      "297815  b12803c9-c8c8-44de-b723-2e7c433a3e64  \n",
      "297816  3b4e22aa-7ac5-4816-bc5d-2c25cb3bd5dd  \n",
      "297817  23aaf84d-02fd-41c8-897d-22132da89f8a  \n",
      "297818  c241e73d-de99-47d1-ac7e-2b0b3fe31838  \n",
      "297819  a8fd9e0c-fbe4-4b40-9104-aafb10b6a571  \n",
      "297820  da43393d-f11f-4827-aa3d-8216d256b21b  \n",
      "297821  c5fd99f4-d474-40f0-89e5-e30412a351bd  \n",
      "297822  5f400295-df68-4103-ae68-5e396c646f81  \n",
      "297823  25e69e7c-b2da-4449-8223-c8c18af9523c  \n",
      "297824  ba6c893d-db82-4127-92c4-99c07b8dbecd  \n",
      "297825  d225851f-2b58-43be-b6c4-5f229d8abe68  \n",
      "297826  7116ae20-cf60-482f-b8e4-a33a6ce0db3b  \n",
      "297827  465dc2bd-fd23-469f-be54-711f726118fd  \n",
      "297828  319486d2-b0ea-49b3-8858-ab172ef9d814  \n",
      "297829  5db980d9-2ab3-4a3f-94d0-13e6085e24f4  \n",
      "297830  e875a7c2-0ab2-428c-bbd6-6356bd6cfb5b  \n",
      "297831  0d3f9cea-e131-4c14-810e-dcedf4942c21  \n",
      "297832  14255e76-4384-4b42-8af6-39331975854e  \n",
      "297833  4203c16a-20ab-4530-a0ea-d71ecf7f60fe  \n",
      "297834  87ab3750-8d78-4c46-945c-9aea62933f11  \n",
      "297835  517d3250-d596-4fc2-b1f5-a80e59506a9b  \n",
      "297836  b066ba8f-dd11-4a73-aa8d-2f1871f97f82  \n",
      "297837  48874c36-c867-443b-bc8e-2f0108ed6368  \n",
      "297838  ca682cea-36e4-4a2f-b138-05ec0d14975b  \n",
      "297839  c24090f2-0956-4217-b127-bf6eb6eb3eb8  \n",
      "297840  7d5f4bea-45ab-496d-8b49-32be2ddbf223  \n",
      "\n",
      "[297841 rows x 3 columns]\n"
     ]
    }
   ],
   "source": [
    "IDLT = r2.loc[:, [\"ID\", \"2015\", \"2016\"]] # ID Lookup Table\n",
    "IDLT.rename(columns={'ID': 'BauerID'}, inplace=True)\n",
    "print(IDLT)"
   ]
  },
  {
   "cell_type": "code",
   "execution_count": 429,
   "metadata": {
    "collapsed": true
   },
   "outputs": [],
   "source": [
    "IDLT.to_csv('IDLT.csv', encoding='utf-8', index=False)"
   ]
  },
  {
   "cell_type": "code",
   "execution_count": 430,
   "metadata": {
    "collapsed": true
   },
   "outputs": [],
   "source": [
    "grant_15 = pd.merge(IDLT, df, how='inner', left_on = '2015', right_on = 'pid')\n",
    "#r1.rename(columns={'pid_x': '2015', 'pid_y': '2016'}, inplace=True)"
   ]
  },
  {
   "cell_type": "code",
   "execution_count": 431,
   "metadata": {
    "collapsed": true
   },
   "outputs": [],
   "source": [
    "#\n",
    "#grant15 = grant_15.iloc[:, [0, 5:64]]\n",
    "#print(grant_15)\n"
   ]
  },
  {
   "cell_type": "code",
   "execution_count": 432,
   "metadata": {
    "collapsed": true
   },
   "outputs": [],
   "source": [
    "a = list(range(0, 61))\n",
    "for i in [1, 2, 3, 4, 5, 6]:\n",
    "  a.remove(i)\n",
    "\n",
    "#print(a)"
   ]
  },
  {
   "cell_type": "code",
   "execution_count": 433,
   "metadata": {
    "collapsed": true
   },
   "outputs": [],
   "source": [
    "#print(grant_15)"
   ]
  },
  {
   "cell_type": "code",
   "execution_count": 434,
   "metadata": {
    "collapsed": true
   },
   "outputs": [],
   "source": [
    "grant_15 = grant_15.iloc[:, a]"
   ]
  },
  {
   "cell_type": "code",
   "execution_count": 435,
   "metadata": {
    "collapsed": true
   },
   "outputs": [],
   "source": [
    "grant_16 = pd.merge(IDLT, df_16, how='inner', left_on = '2016', right_on = 'pid')\n",
    "#r1.rename(columns={'pid_x': '2015', 'pid_y': '2016'}, inplace=True)"
   ]
  },
  {
   "cell_type": "code",
   "execution_count": null,
   "metadata": {
    "collapsed": true
   },
   "outputs": [],
   "source": []
  },
  {
   "cell_type": "code",
   "execution_count": 436,
   "metadata": {},
   "outputs": [
    {
     "name": "stdout",
     "output_type": "stream",
     "text": [
      "6452.10659279 5737.57592941\n"
     ]
    }
   ],
   "source": [
    "t2_15 = df['Gesamt'].sum()/(10**6)\n",
    "t2_16 = df_16['Gesamt'].sum()/(10**6)\n",
    "print(t2_15, t2_16)"
   ]
  },
  {
   "cell_type": "code",
   "execution_count": 437,
   "metadata": {},
   "outputs": [
    {
     "name": "stdout",
     "output_type": "stream",
     "text": [
      "6452.10659279 5737.57592941\n"
     ]
    }
   ],
   "source": [
    "t2_15 = grant_15['Gesamt'].sum()/(10**6)\n",
    "t2_16 = grant_16['Gesamt'].sum()/(10**6)\n",
    "print(t2_15, t2_16)"
   ]
  },
  {
   "cell_type": "code",
   "execution_count": 438,
   "metadata": {},
   "outputs": [
    {
     "name": "stdout",
     "output_type": "stream",
     "text": [
      "(267477, 59)\n",
      "(267477, 55)\n",
      "(251709, 61)\n",
      "(251709, 64)\n"
     ]
    }
   ],
   "source": [
    "print(df.shape)\n",
    "print(grant_15.shape)\n",
    "print(df_16.shape)\n",
    "print(grant_16.shape)"
   ]
  },
  {
   "cell_type": "code",
   "execution_count": 439,
   "metadata": {
    "collapsed": true
   },
   "outputs": [],
   "source": [
    "b = list(range(0, 64))\n",
    "for i in [1, 2, 3, 4, 5, 6]:\n",
    "  b.remove(i)\n",
    "\n",
    "#print(a)"
   ]
  },
  {
   "cell_type": "code",
   "execution_count": 440,
   "metadata": {},
   "outputs": [],
   "source": [
    "grant_16 = grant_16.iloc[:, b]"
   ]
  },
  {
   "cell_type": "code",
   "execution_count": 441,
   "metadata": {
    "collapsed": true
   },
   "outputs": [],
   "source": [
    "#print(grant_16)"
   ]
  },
  {
   "cell_type": "code",
   "execution_count": 442,
   "metadata": {
    "collapsed": true
   },
   "outputs": [],
   "source": [
    "grant_16.to_csv('grant_16.csv', encoding='utf-8', index=False)\n",
    "grant_15.to_csv('grant_15.csv', encoding='utf-8', index=False)"
   ]
  }
 ],
 "metadata": {
  "kernelspec": {
   "display_name": "Python 3",
   "language": "python",
   "name": "python3"
  },
  "language_info": {
   "codemirror_mode": {
    "name": "ipython",
    "version": 3
   },
   "file_extension": ".py",
   "mimetype": "text/x-python",
   "name": "python",
   "nbconvert_exporter": "python",
   "pygments_lexer": "ipython3",
   "version": "3.6.2"
  }
 },
 "nbformat": 4,
 "nbformat_minor": 2
}
