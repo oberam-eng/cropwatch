{
 "cells": [
  {
   "cell_type": "code",
   "execution_count": 1,
   "metadata": {
    "collapsed": true
   },
   "outputs": [],
   "source": [
    "import numpy as np\n",
    "import pandas as pd"
   ]
  },
  {
   "cell_type": "code",
   "execution_count": 2,
   "metadata": {
    "collapsed": true
   },
   "outputs": [],
   "source": [
    "df = pd.read_csv('2015_grants.csv',  index_col=0)\n",
    "df_16 = pd.read_csv('2016_grants.csv', index_col=0)"
   ]
  },
  {
   "cell_type": "code",
   "execution_count": 3,
   "metadata": {},
   "outputs": [
    {
     "name": "stdout",
     "output_type": "stream",
     "text": [
      "(285184, 59)\n",
      "(259792, 61)\n"
     ]
    }
   ],
   "source": [
    "print(df.shape)\n",
    "print(df_16.shape)"
   ]
  },
  {
   "cell_type": "code",
   "execution_count": 4,
   "metadata": {
    "collapsed": true
   },
   "outputs": [],
   "source": [
    "# remove all \"Kleinempfänger\"\n",
    "little_15 = df.loc[df.name == 'Kleinempfänger']\n",
    "little_16 = df_16.loc[df_16.name == 'Kleinempfänger']\n",
    "df = df.loc[df.name != 'Kleinempfänger']\n",
    "df_16 = df_16.loc[df_16.name != 'Kleinempfänger']"
   ]
  },
  {
   "cell_type": "code",
   "execution_count": 5,
   "metadata": {},
   "outputs": [
    {
     "name": "stdout",
     "output_type": "stream",
     "text": [
      "(269582, 59)\n",
      "(253740, 61)\n",
      "(15602, 59)\n",
      "(6052, 61)\n"
     ]
    }
   ],
   "source": [
    "print(df.shape)\n",
    "print(df_16.shape)\n",
    "print(little_15.shape)\n",
    "print(little_16.shape)"
   ]
  },
  {
   "cell_type": "code",
   "execution_count": 6,
   "metadata": {
    "collapsed": true
   },
   "outputs": [],
   "source": [
    "#tmp = df[df.duplicated([\"name\", \"plz\", \"place\"], keep=False)]\n",
    "#tmp_16 = df_16[df_16.duplicated([\"name\", \"plz\", \"place\"], keep=False)]"
   ]
  },
  {
   "cell_type": "code",
   "execution_count": 7,
   "metadata": {
    "collapsed": true
   },
   "outputs": [],
   "source": [
    "#df = df.groupby(['name', 'plz', 'place'], as_index=False).sum()\n",
    "#df_16 = df_16.groupby(['name', 'plz', 'place'], as_index=False).sum()"
   ]
  },
  {
   "cell_type": "code",
   "execution_count": 8,
   "metadata": {
    "collapsed": true
   },
   "outputs": [],
   "source": [
    "#df1 = df.groupby(['name', 'plz', 'place']).sum()\n",
    "#print(df1)\n",
    "#df = pd.merge(df,df1,on=['name', 'plz', 'place'],how='inner')"
   ]
  },
  {
   "cell_type": "code",
   "execution_count": 9,
   "metadata": {
    "collapsed": true
   },
   "outputs": [],
   "source": [
    "#df.sort(\"diff\").groupby(\"item\", as_index=False).first()\n",
    "#print(df)"
   ]
  },
  {
   "cell_type": "code",
   "execution_count": 10,
   "metadata": {
    "collapsed": true
   },
   "outputs": [],
   "source": [
    "#df[df.duplicated([\"name\", \"plz\", \"place\"], keep=False)]"
   ]
  },
  {
   "cell_type": "code",
   "execution_count": 11,
   "metadata": {
    "collapsed": true
   },
   "outputs": [],
   "source": [
    "#tmp = tmp.sort_values([\"Gesamt\"])\n",
    "#tmp = tmp_16.sort_values([\"Gesamt\"])\n",
    "#tmp.drop_duplicates([\"name\", \"plz\", \"place\"], keep=False, inplace=True)\n",
    "#tmp_16.drop_duplicates([\"name\", \"plz\", \"place\"], keep=False, inplace=True)"
   ]
  },
  {
   "cell_type": "code",
   "execution_count": 12,
   "metadata": {
    "collapsed": true
   },
   "outputs": [],
   "source": [
    "#tmp = tmp.loc[:, [\"pid\", \"name\", \"plz\", \"place\"]]\n",
    "#tmp_16 = tmp_16.loc[:, [\"pid\", \"name\", \"plz\", \"place\"]]"
   ]
  },
  {
   "cell_type": "code",
   "execution_count": 13,
   "metadata": {
    "collapsed": true
   },
   "outputs": [],
   "source": [
    "#test = pd.merge(tmp, gp_15, how=\"inner\", on=[\"name\", \"plz\", \"place\"])\n",
    "#test_16 = pd.merge(tmp_16, gp_16, how=\"inner\", on=[\"name\", \"plz\", \"place\"])\n",
    "#print(test)"
   ]
  },
  {
   "cell_type": "code",
   "execution_count": 14,
   "metadata": {
    "collapsed": true
   },
   "outputs": [],
   "source": [
    "#print(df.shape)\n",
    "#df = pd.concat([df, test], ignore_index=True)\n",
    "#df_16 = pd.concat([df_16, test_16], ignore_index=True)\n",
    "#print(df.shape)"
   ]
  },
  {
   "cell_type": "code",
   "execution_count": 15,
   "metadata": {
    "collapsed": true
   },
   "outputs": [],
   "source": [
    "#print(df.shape)"
   ]
  },
  {
   "cell_type": "code",
   "execution_count": 16,
   "metadata": {
    "collapsed": true
   },
   "outputs": [],
   "source": [
    "#df[df.duplicated([\"name\", \"plz\", \"place\"], keep=False)]\n"
   ]
  },
  {
   "cell_type": "code",
   "execution_count": 17,
   "metadata": {
    "collapsed": true
   },
   "outputs": [],
   "source": [
    "#df_16[df_16.duplicated([\"name\", \"plz\", \"place\"], keep=False)]"
   ]
  },
  {
   "cell_type": "code",
   "execution_count": 18,
   "metadata": {
    "collapsed": true
   },
   "outputs": [],
   "source": [
    "df = df.drop_duplicates([\"name\", \"plz\", \"place\"], keep=False)\n",
    "df_16 = df_16.drop_duplicates([\"name\", \"plz\", \"place\"], keep=False)"
   ]
  },
  {
   "cell_type": "code",
   "execution_count": 19,
   "metadata": {
    "scrolled": true
   },
   "outputs": [
    {
     "name": "stdout",
     "output_type": "stream",
     "text": [
      "6452.10659279\n",
      "5737.57592941\n"
     ]
    }
   ],
   "source": [
    "Total = df['Gesamt'].sum()\n",
    "Total /= (10**8)\n",
    "print (Total)\n",
    "Total_16 = df_16['Gesamt'].sum()\n",
    "Total_16 /= (10**8)\n",
    "print (Total_16)"
   ]
  },
  {
   "cell_type": "code",
   "execution_count": 20,
   "metadata": {
    "collapsed": true
   },
   "outputs": [],
   "source": [
    "\n",
    "\n",
    "cols = list(df.columns.values) #Make a list of all of the columns in the df\n",
    "cols.pop(cols.index('pid')) #Remove b from list\n",
    "cols.pop(cols.index('name')) #Remove x from list\n",
    "cols.pop(cols.index('plz')) #Remove b from list\n",
    "cols.pop(cols.index('place')) #Remove x from list\n",
    "cols.pop(cols.index('Gesamt')) #Remove b from list\n",
    "df = df[['pid','name', 'plz', 'place', 'Gesamt']+cols] #Create new dataframe with columns in the order you want\n",
    "\n",
    "\n",
    "\n",
    "cols = list(df_16.columns.values) #Make a list of all of the columns in the df\n",
    "cols.pop(cols.index('pid')) #Remove b from list\n",
    "cols.pop(cols.index('name')) #Remove x from list\n",
    "cols.pop(cols.index('plz')) #Remove b from list\n",
    "cols.pop(cols.index('place')) #Remove x from list\n",
    "cols.pop(cols.index('Gesamt')) #Remove b from list\n",
    "df_16 = df_16[['pid','name', 'plz', 'place', 'Gesamt']+cols] #Create new dataframe with columns in the order you want"
   ]
  },
  {
   "cell_type": "code",
   "execution_count": 21,
   "metadata": {
    "collapsed": true,
    "scrolled": true
   },
   "outputs": [],
   "source": [
    "#print(df)\n",
    "#df.dtypes"
   ]
  },
  {
   "cell_type": "code",
   "execution_count": 22,
   "metadata": {
    "collapsed": true
   },
   "outputs": [],
   "source": [
    "# Convert the cents in €. TODO: fix parser \n",
    "df.iloc[:, 4:59] = df.iloc[:, 4:59] / 100\n",
    "#df.iloc[:, 1] = df.iloc[:, 1] / 100\n",
    "df_16.iloc[:, 4:64] = df_16.iloc[:, 4:64] / 100\n",
    "#df_16.iloc[:, 1] = df_16.iloc[:, 1] / 100"
   ]
  },
  {
   "cell_type": "code",
   "execution_count": null,
   "metadata": {
    "collapsed": true
   },
   "outputs": [],
   "source": []
  },
  {
   "cell_type": "code",
   "execution_count": 23,
   "metadata": {},
   "outputs": [
    {
     "name": "stdout",
     "output_type": "stream",
     "text": [
      "6452.10659279 5737.57592941\n"
     ]
    }
   ],
   "source": [
    "# for debugging\n",
    "t_15 = df['Gesamt'].sum()/(10**6)\n",
    "t_16 = df_16['Gesamt'].sum()/(10**6)\n",
    "print(t_15, t_16)"
   ]
  },
  {
   "cell_type": "code",
   "execution_count": 24,
   "metadata": {
    "collapsed": true
   },
   "outputs": [],
   "source": [
    "#print(df)\n",
    "df.fillna(0, inplace=True)\n",
    "df_16.fillna(0, inplace=True)"
   ]
  },
  {
   "cell_type": "code",
   "execution_count": 25,
   "metadata": {
    "collapsed": true
   },
   "outputs": [],
   "source": [
    "p1 = df.loc[:, [\"pid\", \"name\", \"plz\", \"place\"]]\n",
    "p1.sort_values([\"plz\", \"name\", \"pid\"], inplace=True)"
   ]
  },
  {
   "cell_type": "code",
   "execution_count": 26,
   "metadata": {
    "collapsed": true
   },
   "outputs": [],
   "source": [
    "p1.reset_index(drop=True, inplace=True)"
   ]
  },
  {
   "cell_type": "code",
   "execution_count": 27,
   "metadata": {
    "collapsed": true
   },
   "outputs": [],
   "source": [
    "p1.insert(0, 'ID', range(15000000, 15000000 + len(p1)))"
   ]
  },
  {
   "cell_type": "code",
   "execution_count": 28,
   "metadata": {
    "collapsed": true
   },
   "outputs": [],
   "source": [
    "p2 = p1.fillna(0)"
   ]
  },
  {
   "cell_type": "code",
   "execution_count": 29,
   "metadata": {
    "collapsed": true
   },
   "outputs": [],
   "source": [
    "p1_16 = df_16.loc[:, [\"pid\", \"name\", \"plz\", \"place\"]]\n",
    "p1_16.sort_values([\"plz\", \"name\", \"pid\"], inplace=True)"
   ]
  },
  {
   "cell_type": "code",
   "execution_count": 30,
   "metadata": {
    "collapsed": true
   },
   "outputs": [],
   "source": [
    "#p1[p1.duplicated([\"name\", \"plz\", \"place\"], keep=False)]\n"
   ]
  },
  {
   "cell_type": "code",
   "execution_count": 31,
   "metadata": {
    "collapsed": true
   },
   "outputs": [],
   "source": [
    "#p1_16[p1_16.duplicated([\"name\", \"plz\", \"place\"], keep=False)]"
   ]
  },
  {
   "cell_type": "code",
   "execution_count": 32,
   "metadata": {
    "collapsed": true
   },
   "outputs": [],
   "source": [
    "r1 = pd.merge(p1, p1_16, how='outer', on=['name', 'plz', 'place'])\n",
    "r1.rename(columns={'pid_x': '2015', 'pid_y': '2016'}, inplace=True)"
   ]
  },
  {
   "cell_type": "code",
   "execution_count": 33,
   "metadata": {},
   "outputs": [
    {
     "data": {
      "text/html": [
       "<div>\n",
       "<style>\n",
       "    .dataframe thead tr:only-child th {\n",
       "        text-align: right;\n",
       "    }\n",
       "\n",
       "    .dataframe thead th {\n",
       "        text-align: left;\n",
       "    }\n",
       "\n",
       "    .dataframe tbody tr th {\n",
       "        vertical-align: top;\n",
       "    }\n",
       "</style>\n",
       "<table border=\"1\" class=\"dataframe\">\n",
       "  <thead>\n",
       "    <tr style=\"text-align: right;\">\n",
       "      <th></th>\n",
       "      <th>ID</th>\n",
       "      <th>2015</th>\n",
       "      <th>name</th>\n",
       "      <th>plz</th>\n",
       "      <th>place</th>\n",
       "      <th>2016</th>\n",
       "    </tr>\n",
       "  </thead>\n",
       "  <tbody>\n",
       "  </tbody>\n",
       "</table>\n",
       "</div>"
      ],
      "text/plain": [
       "Empty DataFrame\n",
       "Columns: [ID, 2015, name, plz, place, 2016]\n",
       "Index: []"
      ]
     },
     "execution_count": 33,
     "metadata": {},
     "output_type": "execute_result"
    }
   ],
   "source": [
    "r1[r1.duplicated([\"name\", \"plz\", \"place\"], keep=False)]"
   ]
  },
  {
   "cell_type": "code",
   "execution_count": 34,
   "metadata": {
    "collapsed": true
   },
   "outputs": [],
   "source": [
    "#'''\n",
    "#Keep for demo and later investigation\n",
    "#r_inner = pd.merge(p1, p1_16, how='inner', on=['name', 'plz', 'place'])\n",
    "#r_inner.rename(columns={'pid_x': '2015', 'pid_y': '2016'}, inplace=True)\n",
    "#remain_15 = p1[~p1.isin(r_inner)].dropna()\n",
    "#remain_16 = p1_16[~p1_16.isin(r_inner)].dropna()\n",
    "#r_comp = r1.copy()\n",
    "#r_comp[~r_comp.isin(r_inner)].dropna()\n",
    "#rem_15 = p1[~p1.isin(r_inner.to_dict('l')).all(1)]\n",
    "#print(r_inner.shape)\n",
    "#r_inner = r_inner.drop_duplicates(\"2015\")\n",
    "#r_inner = r_inner.drop_duplicates(\"2016\")\n",
    "#test = pd.merge(r_inner, rem2_15, how='inner', on=['name', 'plz', 'place'])\n",
    "#print(test)\n",
    "#test = pd.merge(r_inner, rem2_16, how='inner', on=['name', 'plz', 'place'])\n",
    "#print(test)\n",
    "#pd.options.mode.chained_assignment = None\n",
    "#rem2_16.insert(0, \"ID\", np.nan)\n",
    "#rem2_15.rename(columns={'pid': '2015'}, inplace=True)\n",
    "#rem2_16.rename(columns={'pid': '2016'}, inplace=True)#\n",
    "#\n",
    "#print(p1.shape)\n",
    "#print(r_inner.shape)\n",
    "#print(rem2_15.shape)\n",
    "#print(rem2_16.shape)#\n",
    "#\n",
    "#r1 = pd.concat([r_inner, rem2_15])\n",
    "#r1 = pd.concat([r1, rem2_16])#\n",
    "#\n",
    "#r1_old = r1\n",
    "#r_comp = r1\n",
    "#\n",
    "#print(r_comp.shape)\n",
    "#print(r1_old.shape)\n",
    "#print(r_inner.shape)\n",
    "#'''"
   ]
  },
  {
   "cell_type": "code",
   "execution_count": 35,
   "metadata": {
    "collapsed": true
   },
   "outputs": [],
   "source": [
    "#print(r1.shape)\n",
    "#r1 = r1.drop_duplicates(\"2015\")\n",
    "#r1 = r1.drop_duplicates(\"2016\")\n",
    "#print(r1.shape)"
   ]
  },
  {
   "cell_type": "code",
   "execution_count": 36,
   "metadata": {
    "collapsed": true
   },
   "outputs": [],
   "source": [
    "#t4_15 = r_comp['Gesamt'].sum()/(10**6)\n",
    "#t4_16 = r_comp['Gesamt'].sum()/(10**6)\n",
    "#print(t4_15, t4_16)"
   ]
  },
  {
   "cell_type": "code",
   "execution_count": 37,
   "metadata": {
    "collapsed": true
   },
   "outputs": [],
   "source": [
    "#print(r_test)\n",
    "#r1.replace(np.NaN, range(16000000, 16000000 + len(r1)))"
   ]
  },
  {
   "cell_type": "code",
   "execution_count": 38,
   "metadata": {
    "collapsed": true
   },
   "outputs": [],
   "source": [
    "#r1.fillna(value=range(16000000, 16000000 + len(r1)), axis=0)\n",
    "#print(r1)"
   ]
  },
  {
   "cell_type": "code",
   "execution_count": 39,
   "metadata": {
    "collapsed": true
   },
   "outputs": [],
   "source": [
    "#missing_no = r1.loc[:, \"2016\"].isnull().sum()\n",
    "#print(missing_no)"
   ]
  },
  {
   "cell_type": "code",
   "execution_count": 40,
   "metadata": {
    "collapsed": true
   },
   "outputs": [],
   "source": [
    "ids = pd.Series(range(16000000 + len(r1), 16000000, -1))"
   ]
  },
  {
   "cell_type": "code",
   "execution_count": 41,
   "metadata": {
    "collapsed": true
   },
   "outputs": [],
   "source": [
    "r1[\"ID\"].fillna(value=ids, inplace=True)"
   ]
  },
  {
   "cell_type": "code",
   "execution_count": 42,
   "metadata": {
    "collapsed": true
   },
   "outputs": [],
   "source": [
    "#print(r1)"
   ]
  },
  {
   "cell_type": "code",
   "execution_count": 43,
   "metadata": {
    "collapsed": true
   },
   "outputs": [],
   "source": [
    "#print(r1.loc[r1.plz == 91586])"
   ]
  },
  {
   "cell_type": "code",
   "execution_count": 44,
   "metadata": {},
   "outputs": [
    {
     "name": "stdout",
     "output_type": "stream",
     "text": [
      "Empty DataFrame\n",
      "Columns: [ID, 2015, name, plz, place, 2016]\n",
      "Index: []\n"
     ]
    }
   ],
   "source": [
    "print(r1.loc[r1.ID == 10000000.0])"
   ]
  },
  {
   "cell_type": "code",
   "execution_count": 45,
   "metadata": {
    "collapsed": true
   },
   "outputs": [],
   "source": [
    "r1 = r1[['ID', 'name', 'plz', 'place', '2015', '2016']]"
   ]
  },
  {
   "cell_type": "code",
   "execution_count": 46,
   "metadata": {
    "collapsed": true
   },
   "outputs": [],
   "source": [
    "r1[\"ID\"] = r1[\"ID\"].astype(int)"
   ]
  },
  {
   "cell_type": "code",
   "execution_count": 47,
   "metadata": {},
   "outputs": [
    {
     "name": "stdout",
     "output_type": "stream",
     "text": [
      "(297841, 6)\n"
     ]
    },
    {
     "data": {
      "text/plain": [
       "ID        int64\n",
       "name     object\n",
       "plz       int64\n",
       "place    object\n",
       "2015     object\n",
       "2016     object\n",
       "dtype: object"
      ]
     },
     "execution_count": 47,
     "metadata": {},
     "output_type": "execute_result"
    }
   ],
   "source": [
    "print(r1.shape)\n",
    "r1.dtypes"
   ]
  },
  {
   "cell_type": "code",
   "execution_count": 48,
   "metadata": {
    "collapsed": true
   },
   "outputs": [],
   "source": [
    "r2 = r1.copy()\n",
    "r2.rename(columns={'plz': 'plz_i'}, inplace=True)\n",
    "r2[['plz']] = r2[['plz_i']].astype(str)\n",
    "r2['plz'] = r2['plz'].str.zfill(5)"
   ]
  },
  {
   "cell_type": "code",
   "execution_count": 49,
   "metadata": {
    "collapsed": true
   },
   "outputs": [],
   "source": [
    "mem1 = r2.memory_usage(index=True, deep=True).sum()\n",
    "mem1 /= (1024 * 1024)"
   ]
  },
  {
   "cell_type": "code",
   "execution_count": 50,
   "metadata": {},
   "outputs": [
    {
     "name": "stdout",
     "output_type": "stream",
     "text": [
      "116.324575424\n"
     ]
    }
   ],
   "source": [
    "print(mem1)"
   ]
  },
  {
   "cell_type": "code",
   "execution_count": 51,
   "metadata": {},
   "outputs": [
    {
     "name": "stdout",
     "output_type": "stream",
     "text": [
      "65.6702613831\n"
     ]
    }
   ],
   "source": [
    "BauerID = r2.copy()\n",
    "BauerID.rename(columns={'ID': 'BauerID'}, inplace=True)\n",
    "BauerID = BauerID.loc[:, [\"BauerID\", \"name\", \"plz\", \"place\"]]\n",
    "mem2 = BauerID.memory_usage(index=True, deep=True).sum()\n",
    "mem2 /= (1024 * 1024)\n",
    "print(mem2)"
   ]
  },
  {
   "cell_type": "code",
   "execution_count": 52,
   "metadata": {},
   "outputs": [
    {
     "data": {
      "text/html": [
       "<div>\n",
       "<style>\n",
       "    .dataframe thead tr:only-child th {\n",
       "        text-align: right;\n",
       "    }\n",
       "\n",
       "    .dataframe thead th {\n",
       "        text-align: left;\n",
       "    }\n",
       "\n",
       "    .dataframe tbody tr th {\n",
       "        vertical-align: top;\n",
       "    }\n",
       "</style>\n",
       "<table border=\"1\" class=\"dataframe\">\n",
       "  <thead>\n",
       "    <tr style=\"text-align: right;\">\n",
       "      <th></th>\n",
       "      <th>BauerID</th>\n",
       "      <th>name</th>\n",
       "      <th>plz</th>\n",
       "      <th>place</th>\n",
       "    </tr>\n",
       "  </thead>\n",
       "  <tbody>\n",
       "  </tbody>\n",
       "</table>\n",
       "</div>"
      ],
      "text/plain": [
       "Empty DataFrame\n",
       "Columns: [BauerID, name, plz, place]\n",
       "Index: []"
      ]
     },
     "execution_count": 52,
     "metadata": {},
     "output_type": "execute_result"
    }
   ],
   "source": [
    "BauerID[BauerID.duplicated([\"name\", \"plz\", \"place\"], keep=False)]"
   ]
  },
  {
   "cell_type": "code",
   "execution_count": 53,
   "metadata": {
    "collapsed": true
   },
   "outputs": [],
   "source": [
    "BauerID.to_csv('BauerID.csv', encoding='utf-8', index=False)"
   ]
  },
  {
   "cell_type": "code",
   "execution_count": 54,
   "metadata": {},
   "outputs": [],
   "source": [
    "IDLT = r2.loc[:, [\"ID\", \"2015\", \"2016\"]] # ID Lookup Table\n",
    "IDLT.rename(columns={'ID': 'BauerID'}, inplace=True)\n",
    "#print(IDLT)"
   ]
  },
  {
   "cell_type": "code",
   "execution_count": 55,
   "metadata": {
    "collapsed": true
   },
   "outputs": [],
   "source": [
    "IDLT.to_csv('IDLT.csv', encoding='utf-8', index=False)"
   ]
  },
  {
   "cell_type": "code",
   "execution_count": 56,
   "metadata": {
    "collapsed": true
   },
   "outputs": [],
   "source": [
    "grant_15 = pd.merge(IDLT, df, how='inner', left_on = '2015', right_on = 'pid')\n",
    "#r1.rename(columns={'pid_x': '2015', 'pid_y': '2016'}, inplace=True)"
   ]
  },
  {
   "cell_type": "code",
   "execution_count": 57,
   "metadata": {
    "collapsed": true
   },
   "outputs": [],
   "source": [
    "#\n",
    "#grant15 = grant_15.iloc[:, [0, 5:64]]\n",
    "#print(grant_15)\n"
   ]
  },
  {
   "cell_type": "code",
   "execution_count": 58,
   "metadata": {
    "collapsed": true
   },
   "outputs": [],
   "source": [
    "a = list(range(0, 61))\n",
    "for i in [1, 2, 3, 4, 5, 6]:\n",
    "  a.remove(i)\n",
    "\n",
    "#print(a)"
   ]
  },
  {
   "cell_type": "code",
   "execution_count": 59,
   "metadata": {
    "collapsed": true
   },
   "outputs": [],
   "source": [
    "grant_15 = grant_15.iloc[:, a]"
   ]
  },
  {
   "cell_type": "code",
   "execution_count": 60,
   "metadata": {
    "collapsed": true
   },
   "outputs": [],
   "source": [
    "grant_16 = pd.merge(IDLT, df_16, how='inner', left_on = '2016', right_on = 'pid')\n",
    "#r1.rename(columns={'pid_x': '2015', 'pid_y': '2016'}, inplace=True)"
   ]
  },
  {
   "cell_type": "code",
   "execution_count": null,
   "metadata": {
    "collapsed": true
   },
   "outputs": [],
   "source": []
  },
  {
   "cell_type": "code",
   "execution_count": 61,
   "metadata": {},
   "outputs": [
    {
     "name": "stdout",
     "output_type": "stream",
     "text": [
      "6452.10659279 5737.57592941\n"
     ]
    }
   ],
   "source": [
    "t2_15 = df['Gesamt'].sum()/(10**6)\n",
    "t2_16 = df_16['Gesamt'].sum()/(10**6)\n",
    "print(t2_15, t2_16)"
   ]
  },
  {
   "cell_type": "code",
   "execution_count": 62,
   "metadata": {},
   "outputs": [
    {
     "name": "stdout",
     "output_type": "stream",
     "text": [
      "6452.10659279 5737.57592941\n"
     ]
    }
   ],
   "source": [
    "t2_15 = grant_15['Gesamt'].sum()/(10**6)\n",
    "t2_16 = grant_16['Gesamt'].sum()/(10**6)\n",
    "print(t2_15, t2_16)"
   ]
  },
  {
   "cell_type": "code",
   "execution_count": 63,
   "metadata": {},
   "outputs": [
    {
     "name": "stdout",
     "output_type": "stream",
     "text": [
      "(267477, 59)\n",
      "(267477, 55)\n",
      "(251709, 61)\n",
      "(251709, 64)\n"
     ]
    }
   ],
   "source": [
    "print(df.shape)\n",
    "print(grant_15.shape)\n",
    "print(df_16.shape)\n",
    "print(grant_16.shape)"
   ]
  },
  {
   "cell_type": "code",
   "execution_count": 64,
   "metadata": {
    "collapsed": true
   },
   "outputs": [],
   "source": [
    "b = list(range(0, 64))\n",
    "for i in [1, 2, 3, 4, 5, 6]:\n",
    "  b.remove(i)\n",
    "\n",
    "#print(a)"
   ]
  },
  {
   "cell_type": "code",
   "execution_count": 65,
   "metadata": {
    "collapsed": true
   },
   "outputs": [],
   "source": [
    "grant_16 = grant_16.iloc[:, b]"
   ]
  },
  {
   "cell_type": "code",
   "execution_count": 66,
   "metadata": {
    "collapsed": true
   },
   "outputs": [],
   "source": [
    "#print(grant_16)"
   ]
  },
  {
   "cell_type": "code",
   "execution_count": 67,
   "metadata": {
    "collapsed": true
   },
   "outputs": [],
   "source": [
    "grant_16.to_csv('grant_16.csv', encoding='utf-8', index=False)\n",
    "grant_15.to_csv('grant_15.csv', encoding='utf-8', index=False)"
   ]
  }
 ],
 "metadata": {
  "kernelspec": {
   "display_name": "Python 3",
   "language": "python",
   "name": "python3"
  },
  "language_info": {
   "codemirror_mode": {
    "name": "ipython",
    "version": 3
   },
   "file_extension": ".py",
   "mimetype": "text/x-python",
   "name": "python",
   "nbconvert_exporter": "python",
   "pygments_lexer": "ipython3",
   "version": "3.6.2"
  }
 },
 "nbformat": 4,
 "nbformat_minor": 2
}
