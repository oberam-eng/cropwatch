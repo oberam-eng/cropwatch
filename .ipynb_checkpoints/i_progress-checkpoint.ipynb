{
 "cells": [
  {
   "cell_type": "code",
   "execution_count": 32,
   "metadata": {
    "collapsed": true
   },
   "outputs": [],
   "source": [
    "import pandas as pd"
   ]
  },
  {
   "cell_type": "code",
   "execution_count": 33,
   "metadata": {
    "collapsed": true
   },
   "outputs": [],
   "source": [
    "gr_15 = pd.read_csv('grant_15.csv')\n",
    "gr_16 = pd.read_csv('grant_16.csv')"
   ]
  },
  {
   "cell_type": "code",
   "execution_count": 34,
   "metadata": {},
   "outputs": [
    {
     "name": "stdout",
     "output_type": "stream",
     "text": [
      "6.45210659279\n",
      "5.73757592941\n"
     ]
    }
   ],
   "source": [
    "#print(gr_15)\n",
    "t1_15, t1_16 = gr_15['Gesamt'].sum(), gr_16['Gesamt'].sum()\n",
    "#print(t1_15/(10**9))\n",
    "#print(t1_16/(10**9))"
   ]
  },
  {
   "cell_type": "code",
   "execution_count": 36,
   "metadata": {},
   "outputs": [
    {
     "name": "stdout",
     "output_type": "stream",
     "text": [
      "6.45210659279\n",
      "5.73757592941\n"
     ]
    }
   ],
   "source": [
    "gr_15 = gr_15.iloc[:, 0:2]\n",
    "gr_16 = gr_16.iloc[:, 0:2]\n",
    "gr_15.rename(columns={'Gesamt': '2015'}, inplace=True)\n",
    "gr_16.rename(columns={'Gesamt': '2016'}, inplace=True)\n",
    "#print(gr_16)\n",
    "t3_15, t3_16 = gr_15['2015'].sum(), gr_16['2016'].sum()\n",
    "#print(t3_15/(10**9))\n",
    "#print(t3_16/(10**9))"
   ]
  },
  {
   "cell_type": "code",
   "execution_count": 37,
   "metadata": {
    "collapsed": true
   },
   "outputs": [],
   "source": [
    "progress = pd.merge(gr_15, gr_16, how='outer', on=['BauerID'])"
   ]
  },
  {
   "cell_type": "code",
   "execution_count": 38,
   "metadata": {},
   "outputs": [
    {
     "name": "stdout",
     "output_type": "stream",
     "text": [
      "         BauerID        2015       2016\n",
      "0       15000000    25678.39        NaN\n",
      "1       15000001     9506.92    7608.37\n",
      "2       15000002   137461.44   96548.22\n",
      "3       15000003   281006.24   38350.09\n",
      "4       15000004  1181823.51  360428.03\n",
      "5       15000005   831753.36  166456.36\n",
      "6       15000006     5773.97    4834.68\n",
      "7       15000007    45779.36   46607.15\n",
      "8       15000008   295281.91        NaN\n",
      "9       15000009   100029.98  130669.83\n",
      "10      15000010    12497.03   11890.83\n",
      "11      15000011     1704.93    1424.14\n",
      "12      15000012    43195.25  107876.48\n",
      "13      15000013    15139.50        NaN\n",
      "14      15000014     2319.36    9867.16\n",
      "15      15000015    17109.77   15014.30\n",
      "16      15000016    27395.03   21496.77\n",
      "17      15000017   130291.74   93959.42\n",
      "18      15000018    24641.89        NaN\n",
      "19      15000019    74761.48  143618.58\n",
      "20      15000020     3226.42    3400.15\n",
      "21      15000021     4360.25    7198.55\n",
      "22      15000022    21976.51   13815.96\n",
      "23      15000023     1448.85        NaN\n",
      "24      15000024    32756.25        NaN\n",
      "25      15000025     5529.51    5153.03\n",
      "26      15000026     6818.97    6362.57\n",
      "27      15000027     2009.68    1925.73\n",
      "28      15000028    87416.22   70478.61\n",
      "29      15000029     1364.11    1951.02\n",
      "...          ...         ...        ...\n",
      "297811  16000030         NaN    3864.00\n",
      "297812  16000029         NaN    1943.32\n",
      "297813  16000028         NaN    1699.35\n",
      "297814  16000027         NaN   13747.59\n",
      "297815  16000026         NaN   11994.34\n",
      "297816  16000025         NaN    4481.21\n",
      "297817  16000024         NaN    4911.16\n",
      "297818  16000023         NaN    4372.95\n",
      "297819  16000022         NaN    9520.62\n",
      "297820  16000021         NaN    2685.97\n",
      "297821  16000020         NaN    1762.53\n",
      "297822  16000019         NaN    2324.65\n",
      "297823  16000018         NaN   18607.41\n",
      "297824  16000017         NaN    3069.19\n",
      "297825  16000016         NaN    2776.16\n",
      "297826  16000015         NaN   17893.63\n",
      "297827  16000014         NaN    6346.26\n",
      "297828  16000013         NaN   10177.19\n",
      "297829  16000012         NaN    3264.65\n",
      "297830  16000011         NaN    2615.40\n",
      "297831  16000010         NaN   73856.30\n",
      "297832  16000009         NaN  154050.20\n",
      "297833  16000008         NaN    1399.24\n",
      "297834  16000007         NaN  232739.73\n",
      "297835  16000006         NaN   16336.95\n",
      "297836  16000005         NaN    5202.77\n",
      "297837  16000004         NaN    5170.28\n",
      "297838  16000003         NaN    1272.57\n",
      "297839  16000002         NaN  207385.84\n",
      "297840  16000001         NaN    2612.03\n",
      "\n",
      "[297841 rows x 3 columns]\n"
     ]
    }
   ],
   "source": [
    "#print(progress)"
   ]
  },
  {
   "cell_type": "code",
   "execution_count": 40,
   "metadata": {},
   "outputs": [],
   "source": [
    "t_15, t_16 = progress['2015'].sum(), progress['2016'].sum()\n",
    "#print(t_15/(10**9))\n",
    "#print(t_16/(10**9))"
   ]
  },
  {
   "cell_type": "code",
   "execution_count": 41,
   "metadata": {
    "collapsed": true
   },
   "outputs": [],
   "source": [
    "progress.to_csv('insights/progress.csv', encoding='utf-8', index=False)"
   ]
  },
  {
   "cell_type": "code",
   "execution_count": null,
   "metadata": {
    "collapsed": true
   },
   "outputs": [],
   "source": []
  },
  {
   "cell_type": "code",
   "execution_count": null,
   "metadata": {
    "collapsed": true
   },
   "outputs": [],
   "source": []
  }
 ],
 "metadata": {
  "kernelspec": {
   "display_name": "Python 3",
   "language": "python",
   "name": "python3"
  },
  "language_info": {
   "codemirror_mode": {
    "name": "ipython",
    "version": 3
   },
   "file_extension": ".py",
   "mimetype": "text/x-python",
   "name": "python",
   "nbconvert_exporter": "python",
   "pygments_lexer": "ipython3",
   "version": "3.6.2"
  }
 },
 "nbformat": 4,
 "nbformat_minor": 2
}
