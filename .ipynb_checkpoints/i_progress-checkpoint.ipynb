{
 "cells": [
  {
   "cell_type": "code",
   "execution_count": 7,
   "metadata": {
    "collapsed": true
   },
   "outputs": [],
   "source": [
    "import pandas as pd"
   ]
  },
  {
   "cell_type": "code",
   "execution_count": 8,
   "metadata": {
    "collapsed": true
   },
   "outputs": [],
   "source": [
    "# Read stage 2\n",
    "gr_15 = pd.read_csv('grant_15.csv')\n",
    "gr_16 = pd.read_csv('grant_16.csv')"
   ]
  },
  {
   "cell_type": "code",
   "execution_count": 9,
   "metadata": {},
   "outputs": [
    {
     "name": "stdout",
     "output_type": "stream",
     "text": [
      "6.45210659279\n",
      "5.73757592941\n"
     ]
    }
   ],
   "source": [
    "# Only use important values and properly name them\n",
    "gr_15 = gr_15.iloc[:, 0:2]\n",
    "gr_16 = gr_16.iloc[:, 0:2]\n",
    "gr_15.rename(columns={'Gesamt': '2015'}, inplace=True)\n",
    "gr_16.rename(columns={'Gesamt': '2016'}, inplace=True)\n",
    "# Debug Information\n",
    "t3_15, t3_16 = gr_15['2015'].sum(), gr_16['2016'].sum()\n",
    "print(t3_15/(10**9))\n",
    "print(t3_16/(10**9))"
   ]
  },
  {
   "cell_type": "code",
   "execution_count": 10,
   "metadata": {
    "collapsed": true
   },
   "outputs": [],
   "source": [
    "# Merge both years\n",
    "progress = pd.merge(gr_15, gr_16, how='outer', on=['BauerID'])"
   ]
  },
  {
   "cell_type": "code",
   "execution_count": 11,
   "metadata": {
    "collapsed": true
   },
   "outputs": [],
   "source": [
    "# Debug Information\n",
    "#t_15, t_16 = progress['2015'].sum(), progress['2016'].sum()\n",
    "#print(t_15/(10**9))\n",
    "#print(t_16/(10**9))"
   ]
  },
  {
   "cell_type": "code",
   "execution_count": 12,
   "metadata": {
    "collapsed": true
   },
   "outputs": [],
   "source": [
    "# Save insight\n",
    "progress.to_csv('insights/progress.csv', encoding='utf-8', index=False)"
   ]
  }
 ],
 "metadata": {
  "kernelspec": {
   "display_name": "Python 3",
   "language": "python",
   "name": "python3"
  },
  "language_info": {
   "codemirror_mode": {
    "name": "ipython",
    "version": 3
   },
   "file_extension": ".py",
   "mimetype": "text/x-python",
   "name": "python",
   "nbconvert_exporter": "python",
   "pygments_lexer": "ipython3",
   "version": "3.6.2"
  }
 },
 "nbformat": 4,
 "nbformat_minor": 2
}
