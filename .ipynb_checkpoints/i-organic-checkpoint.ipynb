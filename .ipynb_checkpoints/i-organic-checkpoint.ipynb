{
 "cells": [
  {
   "cell_type": "code",
   "execution_count": 48,
   "metadata": {
    "collapsed": true
   },
   "outputs": [],
   "source": [
    "import pandas as pd"
   ]
  },
  {
   "cell_type": "code",
   "execution_count": 75,
   "metadata": {},
   "outputs": [],
   "source": [
    "gr_15 = pd.read_csv('grant_15.csv')\n",
    "gr_16 = pd.read_csv('grant_16.csv')"
   ]
  },
  {
   "cell_type": "code",
   "execution_count": 76,
   "metadata": {},
   "outputs": [],
   "source": [
    "gr_15 = gr_15.loc[:, [\"BauerID\", \"Gesamt\", \"Ökologischer Landbau\"]]\n",
    "gr_16 = gr_16.loc[:, [\"BauerID\", \"Gesamt\", \"Ökologischer Landbau\"]]\n",
    "gr_15.rename(columns={'Gesamt': '2015', \"Ökologischer Landbau\": 'Öko_2015'}, inplace=True)\n",
    "gr_16.rename(columns={'Gesamt': '2016', \"Ökologischer Landbau\": 'Öko_2016'}, inplace=True)"
   ]
  },
  {
   "cell_type": "code",
   "execution_count": 77,
   "metadata": {},
   "outputs": [
    {
     "name": "stdout",
     "output_type": "stream",
     "text": [
      "['BauerID' '2015' 'Öko_2015']\n",
      "['BauerID' '2016' 'Öko_2016']\n"
     ]
    }
   ],
   "source": [
    "print(gr_15.columns.values)\n",
    "print(gr_16.columns.values)"
   ]
  },
  {
   "cell_type": "code",
   "execution_count": 78,
   "metadata": {
    "collapsed": true
   },
   "outputs": [],
   "source": [
    "organic = pd.merge(gr_15, gr_16, how='outer', on=['BauerID'])\n",
    "organic.fillna(0, inplace=True)"
   ]
  },
  {
   "cell_type": "code",
   "execution_count": 79,
   "metadata": {},
   "outputs": [],
   "source": [
    "organic['Öko'] = organic['Öko_2015'] + organic['Öko_2016']"
   ]
  },
  {
   "cell_type": "code",
   "execution_count": 80,
   "metadata": {},
   "outputs": [],
   "source": [
    "#print(organic)"
   ]
  },
  {
   "cell_type": "code",
   "execution_count": 81,
   "metadata": {},
   "outputs": [],
   "source": [
    "organic['Öko'] = organic['Öko'].map(lambda a: 1 if a > 0 else 0)"
   ]
  },
  {
   "cell_type": "code",
   "execution_count": 83,
   "metadata": {},
   "outputs": [],
   "source": [
    "#organic"
   ]
  },
  {
   "cell_type": "code",
   "execution_count": 93,
   "metadata": {},
   "outputs": [
    {
     "name": "stdout",
     "output_type": "stream",
     "text": [
      "297841\n",
      "15983\n",
      "5.36628603852 %\n"
     ]
    }
   ],
   "source": [
    "conv = organic.shape[0]\n",
    "orga = organic['Öko'].sum()\n",
    "print(conv)\n",
    "print(orga)\n",
    "print(str((orga/conv)*100) + \" %\")"
   ]
  },
  {
   "cell_type": "code",
   "execution_count": 95,
   "metadata": {},
   "outputs": [
    {
     "name": "stdout",
     "output_type": "stream",
     "text": [
      "5737575929.41\n",
      "187026084.67\n",
      "3.25967075593 %\n"
     ]
    }
   ],
   "source": [
    "conv_m = organic['2016'].sum()\n",
    "orga_m = organic['Öko_2016'].sum()\n",
    "print(conv_m)\n",
    "print(orga_m)\n",
    "print(str((orga_m/conv_m)*100) + \" %\")"
   ]
  },
  {
   "cell_type": "code",
   "execution_count": 41,
   "metadata": {
    "collapsed": true
   },
   "outputs": [],
   "source": [
    "organic.to_csv('insights/organic.csv', encoding='utf-8', index=False)"
   ]
  }
 ],
 "metadata": {
  "kernelspec": {
   "display_name": "Python 3",
   "language": "python",
   "name": "python3"
  },
  "language_info": {
   "codemirror_mode": {
    "name": "ipython",
    "version": 3
   },
   "file_extension": ".py",
   "mimetype": "text/x-python",
   "name": "python",
   "nbconvert_exporter": "python",
   "pygments_lexer": "ipython3",
   "version": "3.6.2"
  }
 },
 "nbformat": 4,
 "nbformat_minor": 2
}
